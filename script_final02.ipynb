{
  "nbformat": 4,
  "nbformat_minor": 0,
  "metadata": {
    "colab": {
      "name": "script final01.ipynb",
      "provenance": [],
      "collapsed_sections": []
    },
    "kernelspec": {
      "name": "python3",
      "display_name": "Python 3"
    }
  },
  "cells": [
    {
      "cell_type": "code",
      "metadata": {
        "colab": {
          "base_uri": "https://localhost:8080/"
        },
        "id": "jSqvnaep2dPe",
        "outputId": "451d173b-4b8f-490f-fb6f-7b4a169f98aa"
      },
      "source": [
        "pip install sparse_dot_topn"
      ],
      "execution_count": null,
      "outputs": [
        {
          "output_type": "stream",
          "text": [
            "Requirement already satisfied: sparse_dot_topn in /usr/local/lib/python3.6/dist-packages (0.2.9)\n",
            "Requirement already satisfied: scipy>=1.2.3 in /usr/local/lib/python3.6/dist-packages (from sparse_dot_topn) (1.4.1)\n",
            "Requirement already satisfied: setuptools>=18.0 in /usr/local/lib/python3.6/dist-packages (from sparse_dot_topn) (51.3.3)\n",
            "Requirement already satisfied: numpy>=1.16.6 in /usr/local/lib/python3.6/dist-packages (from sparse_dot_topn) (1.19.5)\n",
            "Requirement already satisfied: cython>=0.29.15 in /usr/local/lib/python3.6/dist-packages (from sparse_dot_topn) (0.29.21)\n"
          ],
          "name": "stdout"
        }
      ]
    },
    {
      "cell_type": "code",
      "metadata": {
        "colab": {
          "base_uri": "https://localhost:8080/"
        },
        "id": "QxYJAgMT1bb-",
        "outputId": "551b28e1-a59f-4838-bb59-f7f52e501558"
      },
      "source": [
        "import pandas as pd \r\n",
        "import re\r\n",
        "from sklearn.feature_extraction.text import TfidfVectorizer\r\n",
        "import numpy as np\r\n",
        "from scipy.sparse import csr_matrix\r\n",
        "import sparse_dot_topn.sparse_dot_topn as ct  # Leading Juice for us\r\n",
        "import time\r\n",
        "pd.set_option('display.max_colwidth', -1)\r\n",
        "\r\n",
        "#email splitting function definition\r\n",
        "def email_split(x):\r\n",
        "  token = x.split('@')\r\n",
        "  return token[0]\r\n"
      ],
      "execution_count": null,
      "outputs": [
        {
          "output_type": "stream",
          "text": [
            "/usr/local/lib/python3.6/dist-packages/ipykernel_launcher.py:8: FutureWarning: Passing a negative integer is deprecated in version 1.0 and will not be supported in future version. Instead, use None to not limit the column width.\n",
            "  \n"
          ],
          "name": "stderr"
        }
      ]
    },
    {
      "cell_type": "code",
      "metadata": {
        "colab": {
          "base_uri": "https://localhost:8080/",
          "height": 195
        },
        "id": "REYMeExP2U4H",
        "outputId": "197b911b-cc2e-46ed-80a6-f53e11f9452b"
      },
      "source": [
        "user =  pd.read_csv('/content/users from Aug.csv')\r\n",
        "\r\n",
        "# Date settings - based on optimised dates we are considering last 14 days user for comparison\r\n",
        "\r\n",
        "user['created'] = pd.to_datetime(user['created'],format = '%Y-%m-%d %H:%M')\r\n",
        "user['created'] = user['created'].dt.date\r\n",
        "user['days_from_register'] = (user.loc[0,'created']- user['created'] ).apply(lambda x:x.days)\r\n",
        "user = user[user['days_from_register']<14]\r\n",
        "\r\n",
        "df = user[['email','username']].drop(columns = ['username'])\r\n",
        "df = df.rename(columns={'email':'RoomTypes'})\r\n",
        "\r\n",
        "\r\n",
        "#email splitting\r\n",
        "df['RoomTypes'] = df['RoomTypes'].apply(email_split)\r\n",
        "df.head()"
      ],
      "execution_count": null,
      "outputs": [
        {
          "output_type": "execute_result",
          "data": {
            "text/html": [
              "<div>\n",
              "<style scoped>\n",
              "    .dataframe tbody tr th:only-of-type {\n",
              "        vertical-align: middle;\n",
              "    }\n",
              "\n",
              "    .dataframe tbody tr th {\n",
              "        vertical-align: top;\n",
              "    }\n",
              "\n",
              "    .dataframe thead th {\n",
              "        text-align: right;\n",
              "    }\n",
              "</style>\n",
              "<table border=\"1\" class=\"dataframe\">\n",
              "  <thead>\n",
              "    <tr style=\"text-align: right;\">\n",
              "      <th></th>\n",
              "      <th>RoomTypes</th>\n",
              "    </tr>\n",
              "  </thead>\n",
              "  <tbody>\n",
              "    <tr>\n",
              "      <th>0</th>\n",
              "      <td>nepalmondal361</td>\n",
              "    </tr>\n",
              "    <tr>\n",
              "      <th>1</th>\n",
              "      <td>vishum333</td>\n",
              "    </tr>\n",
              "    <tr>\n",
              "      <th>2</th>\n",
              "      <td>notifyamam123</td>\n",
              "    </tr>\n",
              "    <tr>\n",
              "      <th>3</th>\n",
              "      <td>dhamgayeindu</td>\n",
              "    </tr>\n",
              "    <tr>\n",
              "      <th>4</th>\n",
              "      <td>abhishekyad969</td>\n",
              "    </tr>\n",
              "  </tbody>\n",
              "</table>\n",
              "</div>"
            ],
            "text/plain": [
              "        RoomTypes\n",
              "0  nepalmondal361\n",
              "1  vishum333     \n",
              "2  notifyamam123 \n",
              "3  dhamgayeindu  \n",
              "4  abhishekyad969"
            ]
          },
          "metadata": {
            "tags": []
          },
          "execution_count": 24
        }
      ]
    },
    {
      "cell_type": "code",
      "metadata": {
        "colab": {
          "base_uri": "https://localhost:8080/",
          "height": 195
        },
        "id": "fWfSlGcAyXzE",
        "outputId": "10595ca0-ea19-4310-d942-a4b1f822b216"
      },
      "source": [
        "df.tail()"
      ],
      "execution_count": null,
      "outputs": [
        {
          "output_type": "execute_result",
          "data": {
            "text/html": [
              "<div>\n",
              "<style scoped>\n",
              "    .dataframe tbody tr th:only-of-type {\n",
              "        vertical-align: middle;\n",
              "    }\n",
              "\n",
              "    .dataframe tbody tr th {\n",
              "        vertical-align: top;\n",
              "    }\n",
              "\n",
              "    .dataframe thead th {\n",
              "        text-align: right;\n",
              "    }\n",
              "</style>\n",
              "<table border=\"1\" class=\"dataframe\">\n",
              "  <thead>\n",
              "    <tr style=\"text-align: right;\">\n",
              "      <th></th>\n",
              "      <th>RoomTypes</th>\n",
              "    </tr>\n",
              "  </thead>\n",
              "  <tbody>\n",
              "    <tr>\n",
              "      <th>626</th>\n",
              "      <td>ssasirola83</td>\n",
              "    </tr>\n",
              "    <tr>\n",
              "      <th>627</th>\n",
              "      <td>sudupalkumirkhala1234</td>\n",
              "    </tr>\n",
              "    <tr>\n",
              "      <th>628</th>\n",
              "      <td>kamaleshmondal12345k</td>\n",
              "    </tr>\n",
              "    <tr>\n",
              "      <th>629</th>\n",
              "      <td>ajay.negi254441</td>\n",
              "    </tr>\n",
              "    <tr>\n",
              "      <th>630</th>\n",
              "      <td>shankarlalfoazdar</td>\n",
              "    </tr>\n",
              "  </tbody>\n",
              "</table>\n",
              "</div>"
            ],
            "text/plain": [
              "                 RoomTypes\n",
              "626  ssasirola83          \n",
              "627  sudupalkumirkhala1234\n",
              "628  kamaleshmondal12345k \n",
              "629  ajay.negi254441      \n",
              "630  shankarlalfoazdar    "
            ]
          },
          "metadata": {
            "tags": []
          },
          "execution_count": 25
        }
      ]
    },
    {
      "cell_type": "code",
      "metadata": {
        "colab": {
          "base_uri": "https://localhost:8080/"
        },
        "id": "XuIqclDmKdGd",
        "outputId": "769da43c-2b22-4699-bc65-0a572803312e"
      },
      "source": [
        "df.shape\r\n",
        "number = df.shape[0]\r\n",
        "print(number)\r\n",
        "\r\n",
        "# this number is the amount of users that will be compared. \r\n",
        "# On average the system will have to check 500 - 1000 per each user registration"
      ],
      "execution_count": null,
      "outputs": [
        {
          "output_type": "stream",
          "text": [
            "631\n"
          ],
          "name": "stdout"
        }
      ]
    },
    {
      "cell_type": "code",
      "metadata": {
        "colab": {
          "base_uri": "https://localhost:8080/",
          "height": 316
        },
        "id": "AlPNtW9ZKZAS",
        "outputId": "599fcf6b-4b21-4021-a6e7-c2fff6cd76ac"
      },
      "source": [
        "user.head(5)"
      ],
      "execution_count": null,
      "outputs": [
        {
          "output_type": "execute_result",
          "data": {
            "text/html": [
              "<div>\n",
              "<style scoped>\n",
              "    .dataframe tbody tr th:only-of-type {\n",
              "        vertical-align: middle;\n",
              "    }\n",
              "\n",
              "    .dataframe tbody tr th {\n",
              "        vertical-align: top;\n",
              "    }\n",
              "\n",
              "    .dataframe thead th {\n",
              "        text-align: right;\n",
              "    }\n",
              "</style>\n",
              "<table border=\"1\" class=\"dataframe\">\n",
              "  <thead>\n",
              "    <tr style=\"text-align: right;\">\n",
              "      <th></th>\n",
              "      <th>Unnamed: 0</th>\n",
              "      <th>_id</th>\n",
              "      <th>email</th>\n",
              "      <th>created</th>\n",
              "      <th>isBlocked</th>\n",
              "      <th>isKycComplete</th>\n",
              "      <th>isFullKycComplete</th>\n",
              "      <th>username</th>\n",
              "      <th>enterraUserId</th>\n",
              "      <th>blockReason</th>\n",
              "      <th>blockedBy</th>\n",
              "      <th>blockedOn</th>\n",
              "      <th>days_from_register</th>\n",
              "    </tr>\n",
              "  </thead>\n",
              "  <tbody>\n",
              "    <tr>\n",
              "      <th>0</th>\n",
              "      <td>1</td>\n",
              "      <td>600c369da868280027776f6b</td>\n",
              "      <td>nepalmondal361@gmail.com</td>\n",
              "      <td>2021-01-23</td>\n",
              "      <td>False</td>\n",
              "      <td>False</td>\n",
              "      <td>False</td>\n",
              "      <td>Nepal123</td>\n",
              "      <td>155119923</td>\n",
              "      <td>NaN</td>\n",
              "      <td>NaN</td>\n",
              "      <td>NaN</td>\n",
              "      <td>0</td>\n",
              "    </tr>\n",
              "    <tr>\n",
              "      <th>1</th>\n",
              "      <td>2</td>\n",
              "      <td>600c34a4a868280027776f69</td>\n",
              "      <td>vishum333@gmail.com</td>\n",
              "      <td>2021-01-23</td>\n",
              "      <td>False</td>\n",
              "      <td>False</td>\n",
              "      <td>False</td>\n",
              "      <td>C0mmander</td>\n",
              "      <td>155119587</td>\n",
              "      <td>NaN</td>\n",
              "      <td>NaN</td>\n",
              "      <td>NaN</td>\n",
              "      <td>0</td>\n",
              "    </tr>\n",
              "    <tr>\n",
              "      <th>2</th>\n",
              "      <td>3</td>\n",
              "      <td>600c28daa868280027776f61</td>\n",
              "      <td>notifyamam123@gmail.com</td>\n",
              "      <td>2021-01-23</td>\n",
              "      <td>False</td>\n",
              "      <td>False</td>\n",
              "      <td>False</td>\n",
              "      <td>igotthenuts</td>\n",
              "      <td>155113168</td>\n",
              "      <td>NaN</td>\n",
              "      <td>NaN</td>\n",
              "      <td>NaN</td>\n",
              "      <td>0</td>\n",
              "    </tr>\n",
              "    <tr>\n",
              "      <th>3</th>\n",
              "      <td>4</td>\n",
              "      <td>600c1cb5a868280027776f59</td>\n",
              "      <td>dhamgayeindu@gmail.com</td>\n",
              "      <td>2021-01-23</td>\n",
              "      <td>False</td>\n",
              "      <td>False</td>\n",
              "      <td>False</td>\n",
              "      <td>shetty5</td>\n",
              "      <td>155107318</td>\n",
              "      <td>NaN</td>\n",
              "      <td>NaN</td>\n",
              "      <td>NaN</td>\n",
              "      <td>0</td>\n",
              "    </tr>\n",
              "    <tr>\n",
              "      <th>4</th>\n",
              "      <td>5</td>\n",
              "      <td>600bfb5ea868280027776f47</td>\n",
              "      <td>abhishekyad969@gmail.com</td>\n",
              "      <td>2021-01-23</td>\n",
              "      <td>False</td>\n",
              "      <td>False</td>\n",
              "      <td>False</td>\n",
              "      <td>Abhi969</td>\n",
              "      <td>155089556</td>\n",
              "      <td>NaN</td>\n",
              "      <td>NaN</td>\n",
              "      <td>NaN</td>\n",
              "      <td>0</td>\n",
              "    </tr>\n",
              "  </tbody>\n",
              "</table>\n",
              "</div>"
            ],
            "text/plain": [
              "   Unnamed: 0                       _id  ... blockedOn days_from_register\n",
              "0  1           600c369da868280027776f6b  ... NaN        0                \n",
              "1  2           600c34a4a868280027776f69  ... NaN        0                \n",
              "2  3           600c28daa868280027776f61  ... NaN        0                \n",
              "3  4           600c1cb5a868280027776f59  ... NaN        0                \n",
              "4  5           600bfb5ea868280027776f47  ... NaN        0                \n",
              "\n",
              "[5 rows x 13 columns]"
            ]
          },
          "metadata": {
            "tags": []
          },
          "execution_count": 27
        }
      ]
    },
    {
      "cell_type": "code",
      "metadata": {
        "colab": {
          "base_uri": "https://localhost:8080/"
        },
        "id": "hU4WKnak5Dd5",
        "outputId": "d4f4b90a-e985-4ab4-8590-a4cd2bbe53be"
      },
      "source": [
        "#  ngrams(here we are taking n = 3 thus 3-gram (trigrams ) as  most room types only contain two or three words\r\n",
        "#  used for cleaning and removing some punctuation (dots, comma’s etc) i.e.((,-./)) from a string \r\n",
        "#  and generate and collect all n-grams of the string.  \r\n",
        " \r\n",
        "def ngrams(string, n=3):\r\n",
        "\r\n",
        "    string = re.sub(r'[,-./]|\\sBD',r'', string)\r\n",
        "    ngrams = zip(*[string[i:] for i in range(n)])\r\n",
        "    return [''.join(ngram) for ngram in ngrams]\r\n",
        "\r\n",
        "# Testing ngrams work for verification \r\n",
        "\r\n",
        "print('All 3-grams in \"Deluxroom\":')\r\n",
        "ngrams('Deluxroom')"
      ],
      "execution_count": null,
      "outputs": [
        {
          "output_type": "stream",
          "text": [
            "All 3-grams in \"Deluxroom\":\n"
          ],
          "name": "stdout"
        },
        {
          "output_type": "execute_result",
          "data": {
            "text/plain": [
              "['Del', 'elu', 'lux', 'uxr', 'xro', 'roo', 'oom']"
            ]
          },
          "metadata": {
            "tags": []
          },
          "execution_count": 28
        }
      ]
    },
    {
      "cell_type": "code",
      "metadata": {
        "colab": {
          "base_uri": "https://localhost:8080/"
        },
        "id": "slJ5ZUaU5Gym",
        "outputId": "11baef16-ee0b-44a7-d402-b6ac877a7452"
      },
      "source": [
        "room_types = df['RoomTypes']\r\n",
        "vectorizer = TfidfVectorizer(min_df=1, analyzer=ngrams)\r\n",
        "tf_idf_matrix = vectorizer.fit_transform(room_types)\r\n",
        "\r\n",
        "print(tf_idf_matrix[0])"
      ],
      "execution_count": null,
      "outputs": [
        {
          "output_type": "stream",
          "text": [
            "  (0, 197)\t0.33324462218204615\n",
            "  (0, 1714)\t0.31324399716000767\n",
            "  (0, 655)\t0.2880461896340714\n",
            "  (0, 946)\t0.26486203356352384\n",
            "  (0, 1957)\t0.2448614085414854\n",
            "  (0, 2122)\t0.27905270285074657\n",
            "  (0, 1890)\t0.25905207782870815\n",
            "  (0, 1782)\t0.31324399716000767\n",
            "  (0, 670)\t0.299053327872785\n",
            "  (0, 2178)\t0.2372575238114217\n",
            "  (0, 1100)\t0.27905270285074657\n",
            "  (0, 1977)\t0.33324462218204615\n"
          ],
          "name": "stdout"
        }
      ]
    },
    {
      "cell_type": "code",
      "metadata": {
        "id": "Z-Yu5Rx724sq"
      },
      "source": [
        "# calculate the similarity between two vectors of TF-IDF values the Cosine Similarity is usually used.\r\n",
        "# result matrix in a very sparse terms and Scikit-learn deals with this nicely by returning a sparse CSR matrix.\r\n",
        "\r\n",
        "def awesome_cossim_top(A, B, ntop, lower_bound=0):\r\n",
        "    # force A and B as a CSR matrix.\r\n",
        "    # If they have already been CSR, there is no overhead\r\n",
        "    A = A.tocsr()\r\n",
        "    B = B.tocsr()\r\n",
        "    M, _ = A.shape\r\n",
        "    _, N = B.shape\r\n",
        " \r\n",
        "    idx_dtype = np.int32\r\n",
        " \r\n",
        "    nnz_max = M*ntop\r\n",
        " \r\n",
        "    indptr = np.zeros(M+1, dtype=idx_dtype)\r\n",
        "    indices = np.zeros(nnz_max, dtype=idx_dtype)\r\n",
        "    data = np.zeros(nnz_max, dtype=A.dtype)\r\n",
        "\r\n",
        "    ct.sparse_dot_topn(\r\n",
        "        M, N, np.asarray(A.indptr, dtype=idx_dtype),\r\n",
        "        np.asarray(A.indices, dtype=idx_dtype),\r\n",
        "        A.data,\r\n",
        "        np.asarray(B.indptr, dtype=idx_dtype),\r\n",
        "        np.asarray(B.indices, dtype=idx_dtype),\r\n",
        "        B.data,\r\n",
        "        ntop,\r\n",
        "        lower_bound,\r\n",
        "        indptr, indices, data)\r\n",
        "\r\n",
        "    return csr_matrix((data,indices,indptr),shape=(M,N))"
      ],
      "execution_count": null,
      "outputs": []
    },
    {
      "cell_type": "code",
      "metadata": {
        "colab": {
          "base_uri": "https://localhost:8080/"
        },
        "id": "mw9SHgqH1vly",
        "outputId": "e2685b5a-ac6b-4c9b-95cf-5c4be82d26b6"
      },
      "source": [
        "#  Top 10 with similarity above 0.71\r\n",
        "t1 = time.time()\r\n",
        "matches = awesome_cossim_top(tf_idf_matrix, tf_idf_matrix.transpose(), 10, 0.71)\r\n",
        "t = time.time()-t1\r\n",
        "print(\"SELFTIMED:\", t)"
      ],
      "execution_count": null,
      "outputs": [
        {
          "output_type": "stream",
          "text": [
            "SELFTIMED: 0.002210378646850586\n"
          ],
          "name": "stdout"
        }
      ]
    },
    {
      "cell_type": "code",
      "metadata": {
        "id": "PXGYVQwF1hbX"
      },
      "source": [
        "# unpacks the resulting sparse matrix\r\n",
        "def get_matches_df(sparse_matrix, name_vector, top=number):\r\n",
        "    non_zeros = sparse_matrix.nonzero()\r\n",
        "    \r\n",
        "    sparserows = non_zeros[0]\r\n",
        "    sparsecols = non_zeros[1]\r\n",
        "    \r\n",
        "    if top:\r\n",
        "        nr_matches = top\r\n",
        "    else:\r\n",
        "        nr_matches = sparsecols.size\r\n",
        "    \r\n",
        "    left_side = np.empty([nr_matches], dtype=object)\r\n",
        "    right_side = np.empty([nr_matches], dtype=object)\r\n",
        "    similairity = np.zeros(nr_matches)\r\n",
        "    \r\n",
        "    for index in range(0, nr_matches):\r\n",
        "        left_side[index] = name_vector[sparserows[index]]\r\n",
        "        right_side[index] = name_vector[sparsecols[index]]\r\n",
        "        similairity[index] = sparse_matrix.data[index]\r\n",
        "    \r\n",
        "    return pd.DataFrame({'left_side': left_side,\r\n",
        "                          'right_side': right_side,\r\n",
        "                           'similairity': similairity})"
      ],
      "execution_count": null,
      "outputs": []
    },
    {
      "cell_type": "code",
      "metadata": {
        "colab": {
          "base_uri": "https://localhost:8080/",
          "height": 343
        },
        "id": "e82Y1by_7NHY",
        "outputId": "43b02c09-a5b7-4eb7-d9c3-fd022e5f4441"
      },
      "source": [
        "# store the  matches into new dataframe called matched_df and \r\n",
        "# printing 10 samples\r\n",
        "matches_df = get_matches_df(matches, room_types, top=number)\r\n",
        "matches_df = matches_df[matches_df['similairity'] < 0.99999] # For removing all exact matches\r\n",
        "matches_df.sample(10)"
      ],
      "execution_count": null,
      "outputs": [
        {
          "output_type": "execute_result",
          "data": {
            "text/html": [
              "<div>\n",
              "<style scoped>\n",
              "    .dataframe tbody tr th:only-of-type {\n",
              "        vertical-align: middle;\n",
              "    }\n",
              "\n",
              "    .dataframe tbody tr th {\n",
              "        vertical-align: top;\n",
              "    }\n",
              "\n",
              "    .dataframe thead th {\n",
              "        text-align: right;\n",
              "    }\n",
              "</style>\n",
              "<table border=\"1\" class=\"dataframe\">\n",
              "  <thead>\n",
              "    <tr style=\"text-align: right;\">\n",
              "      <th></th>\n",
              "      <th>left_side</th>\n",
              "      <th>right_side</th>\n",
              "      <th>similairity</th>\n",
              "    </tr>\n",
              "  </thead>\n",
              "  <tbody>\n",
              "    <tr>\n",
              "      <th>125</th>\n",
              "      <td>tech+testaccount564</td>\n",
              "      <td>tech+testaccount563</td>\n",
              "      <td>0.919886</td>\n",
              "    </tr>\n",
              "    <tr>\n",
              "      <th>122</th>\n",
              "      <td>tech+testaccount565</td>\n",
              "      <td>tech+testaccount564</td>\n",
              "      <td>0.919886</td>\n",
              "    </tr>\n",
              "    <tr>\n",
              "      <th>131</th>\n",
              "      <td>tech+testaccount563</td>\n",
              "      <td>tech+testaccount566</td>\n",
              "      <td>0.919886</td>\n",
              "    </tr>\n",
              "    <tr>\n",
              "      <th>121</th>\n",
              "      <td>tech+testaccount565</td>\n",
              "      <td>tech+testaccount563</td>\n",
              "      <td>0.919886</td>\n",
              "    </tr>\n",
              "    <tr>\n",
              "      <th>117</th>\n",
              "      <td>tech+testaccount566</td>\n",
              "      <td>tech+testaccount563</td>\n",
              "      <td>0.919886</td>\n",
              "    </tr>\n",
              "    <tr>\n",
              "      <th>126</th>\n",
              "      <td>tech+testaccount564</td>\n",
              "      <td>tech+testaccount565</td>\n",
              "      <td>0.919886</td>\n",
              "    </tr>\n",
              "    <tr>\n",
              "      <th>123</th>\n",
              "      <td>tech+testaccount565</td>\n",
              "      <td>tech+testaccount566</td>\n",
              "      <td>0.919886</td>\n",
              "    </tr>\n",
              "    <tr>\n",
              "      <th>119</th>\n",
              "      <td>tech+testaccount566</td>\n",
              "      <td>tech+testaccount565</td>\n",
              "      <td>0.919886</td>\n",
              "    </tr>\n",
              "    <tr>\n",
              "      <th>118</th>\n",
              "      <td>tech+testaccount566</td>\n",
              "      <td>tech+testaccount564</td>\n",
              "      <td>0.919886</td>\n",
              "    </tr>\n",
              "    <tr>\n",
              "      <th>129</th>\n",
              "      <td>tech+testaccount563</td>\n",
              "      <td>tech+testaccount564</td>\n",
              "      <td>0.919886</td>\n",
              "    </tr>\n",
              "  </tbody>\n",
              "</table>\n",
              "</div>"
            ],
            "text/plain": [
              "               left_side           right_side  similairity\n",
              "125  tech+testaccount564  tech+testaccount563  0.919886   \n",
              "122  tech+testaccount565  tech+testaccount564  0.919886   \n",
              "131  tech+testaccount563  tech+testaccount566  0.919886   \n",
              "121  tech+testaccount565  tech+testaccount563  0.919886   \n",
              "117  tech+testaccount566  tech+testaccount563  0.919886   \n",
              "126  tech+testaccount564  tech+testaccount565  0.919886   \n",
              "123  tech+testaccount565  tech+testaccount566  0.919886   \n",
              "119  tech+testaccount566  tech+testaccount565  0.919886   \n",
              "118  tech+testaccount566  tech+testaccount564  0.919886   \n",
              "129  tech+testaccount563  tech+testaccount564  0.919886   "
            ]
          },
          "metadata": {
            "tags": []
          },
          "execution_count": 33
        }
      ]
    },
    {
      "cell_type": "code",
      "metadata": {
        "colab": {
          "base_uri": "https://localhost:8080/",
          "height": 343
        },
        "id": "hGbcJzSU7WQG",
        "outputId": "f0cbc657-2f98-444d-e6df-cfb66d482089"
      },
      "source": [
        "# printing the matches in sorted order\r\n",
        "matches_df.sort_values(['similairity'], ascending=False).head(10)"
      ],
      "execution_count": null,
      "outputs": [
        {
          "output_type": "execute_result",
          "data": {
            "text/html": [
              "<div>\n",
              "<style scoped>\n",
              "    .dataframe tbody tr th:only-of-type {\n",
              "        vertical-align: middle;\n",
              "    }\n",
              "\n",
              "    .dataframe tbody tr th {\n",
              "        vertical-align: top;\n",
              "    }\n",
              "\n",
              "    .dataframe thead th {\n",
              "        text-align: right;\n",
              "    }\n",
              "</style>\n",
              "<table border=\"1\" class=\"dataframe\">\n",
              "  <thead>\n",
              "    <tr style=\"text-align: right;\">\n",
              "      <th></th>\n",
              "      <th>left_side</th>\n",
              "      <th>right_side</th>\n",
              "      <th>similairity</th>\n",
              "    </tr>\n",
              "  </thead>\n",
              "  <tbody>\n",
              "    <tr>\n",
              "      <th>117</th>\n",
              "      <td>tech+testaccount566</td>\n",
              "      <td>tech+testaccount563</td>\n",
              "      <td>0.919886</td>\n",
              "    </tr>\n",
              "    <tr>\n",
              "      <th>118</th>\n",
              "      <td>tech+testaccount566</td>\n",
              "      <td>tech+testaccount564</td>\n",
              "      <td>0.919886</td>\n",
              "    </tr>\n",
              "    <tr>\n",
              "      <th>119</th>\n",
              "      <td>tech+testaccount566</td>\n",
              "      <td>tech+testaccount565</td>\n",
              "      <td>0.919886</td>\n",
              "    </tr>\n",
              "    <tr>\n",
              "      <th>121</th>\n",
              "      <td>tech+testaccount565</td>\n",
              "      <td>tech+testaccount563</td>\n",
              "      <td>0.919886</td>\n",
              "    </tr>\n",
              "    <tr>\n",
              "      <th>122</th>\n",
              "      <td>tech+testaccount565</td>\n",
              "      <td>tech+testaccount564</td>\n",
              "      <td>0.919886</td>\n",
              "    </tr>\n",
              "    <tr>\n",
              "      <th>123</th>\n",
              "      <td>tech+testaccount565</td>\n",
              "      <td>tech+testaccount566</td>\n",
              "      <td>0.919886</td>\n",
              "    </tr>\n",
              "    <tr>\n",
              "      <th>125</th>\n",
              "      <td>tech+testaccount564</td>\n",
              "      <td>tech+testaccount563</td>\n",
              "      <td>0.919886</td>\n",
              "    </tr>\n",
              "    <tr>\n",
              "      <th>126</th>\n",
              "      <td>tech+testaccount564</td>\n",
              "      <td>tech+testaccount565</td>\n",
              "      <td>0.919886</td>\n",
              "    </tr>\n",
              "    <tr>\n",
              "      <th>127</th>\n",
              "      <td>tech+testaccount564</td>\n",
              "      <td>tech+testaccount566</td>\n",
              "      <td>0.919886</td>\n",
              "    </tr>\n",
              "    <tr>\n",
              "      <th>129</th>\n",
              "      <td>tech+testaccount563</td>\n",
              "      <td>tech+testaccount564</td>\n",
              "      <td>0.919886</td>\n",
              "    </tr>\n",
              "  </tbody>\n",
              "</table>\n",
              "</div>"
            ],
            "text/plain": [
              "               left_side           right_side  similairity\n",
              "117  tech+testaccount566  tech+testaccount563  0.919886   \n",
              "118  tech+testaccount566  tech+testaccount564  0.919886   \n",
              "119  tech+testaccount566  tech+testaccount565  0.919886   \n",
              "121  tech+testaccount565  tech+testaccount563  0.919886   \n",
              "122  tech+testaccount565  tech+testaccount564  0.919886   \n",
              "123  tech+testaccount565  tech+testaccount566  0.919886   \n",
              "125  tech+testaccount564  tech+testaccount563  0.919886   \n",
              "126  tech+testaccount564  tech+testaccount565  0.919886   \n",
              "127  tech+testaccount564  tech+testaccount566  0.919886   \n",
              "129  tech+testaccount563  tech+testaccount564  0.919886   "
            ]
          },
          "metadata": {
            "tags": []
          },
          "execution_count": 34
        }
      ]
    },
    {
      "cell_type": "code",
      "metadata": {
        "colab": {
          "base_uri": "https://localhost:8080/"
        },
        "id": "9Lr0okJLAMPP",
        "outputId": "5c884a87-7922-47a5-eae4-7ab68df3a795"
      },
      "source": [
        "matches_df.shape"
      ],
      "execution_count": null,
      "outputs": [
        {
          "output_type": "execute_result",
          "data": {
            "text/plain": [
              "(12, 3)"
            ]
          },
          "metadata": {
            "tags": []
          },
          "execution_count": 35
        }
      ]
    },
    {
      "cell_type": "code",
      "metadata": {
        "colab": {
          "base_uri": "https://localhost:8080/"
        },
        "id": "Gj0TB-ls9la7",
        "outputId": "68479361-edbe-465a-b507-500a07a6932b"
      },
      "source": [
        "df.shape"
      ],
      "execution_count": null,
      "outputs": [
        {
          "output_type": "execute_result",
          "data": {
            "text/plain": [
              "(631, 1)"
            ]
          },
          "metadata": {
            "tags": []
          },
          "execution_count": 36
        }
      ]
    },
    {
      "cell_type": "code",
      "metadata": {
        "colab": {
          "base_uri": "https://localhost:8080/",
          "height": 518
        },
        "id": "H8AXtbnj7dTM",
        "outputId": "475d1858-9e85-4edc-e8f6-ef7b72ba9a29"
      },
      "source": [
        "#intializing step, we just assume at all users are genuine, then among them only mark the fraud ones\r\n",
        "\r\n",
        "user1 = user.iloc[0:number]\r\n",
        "for i in user1.index:\r\n",
        "  user1.loc[i,'Multiple_Accounts'] = 'False'\r\n",
        "\r\n",
        "user2 = pd.merge(user1,df,left_on= user1.index,right_on=df.index)\r\n",
        "user2.head()"
      ],
      "execution_count": null,
      "outputs": [
        {
          "output_type": "stream",
          "text": [
            "/usr/local/lib/python3.6/dist-packages/pandas/core/indexing.py:1596: SettingWithCopyWarning: \n",
            "A value is trying to be set on a copy of a slice from a DataFrame.\n",
            "Try using .loc[row_indexer,col_indexer] = value instead\n",
            "\n",
            "See the caveats in the documentation: https://pandas.pydata.org/pandas-docs/stable/user_guide/indexing.html#returning-a-view-versus-a-copy\n",
            "  self.obj[key] = _infer_fill_value(value)\n",
            "/usr/local/lib/python3.6/dist-packages/pandas/core/indexing.py:1763: SettingWithCopyWarning: \n",
            "A value is trying to be set on a copy of a slice from a DataFrame.\n",
            "Try using .loc[row_indexer,col_indexer] = value instead\n",
            "\n",
            "See the caveats in the documentation: https://pandas.pydata.org/pandas-docs/stable/user_guide/indexing.html#returning-a-view-versus-a-copy\n",
            "  isetter(loc, value)\n"
          ],
          "name": "stderr"
        },
        {
          "output_type": "execute_result",
          "data": {
            "text/html": [
              "<div>\n",
              "<style scoped>\n",
              "    .dataframe tbody tr th:only-of-type {\n",
              "        vertical-align: middle;\n",
              "    }\n",
              "\n",
              "    .dataframe tbody tr th {\n",
              "        vertical-align: top;\n",
              "    }\n",
              "\n",
              "    .dataframe thead th {\n",
              "        text-align: right;\n",
              "    }\n",
              "</style>\n",
              "<table border=\"1\" class=\"dataframe\">\n",
              "  <thead>\n",
              "    <tr style=\"text-align: right;\">\n",
              "      <th></th>\n",
              "      <th>key_0</th>\n",
              "      <th>Unnamed: 0</th>\n",
              "      <th>_id</th>\n",
              "      <th>email</th>\n",
              "      <th>created</th>\n",
              "      <th>isBlocked</th>\n",
              "      <th>isKycComplete</th>\n",
              "      <th>isFullKycComplete</th>\n",
              "      <th>username</th>\n",
              "      <th>enterraUserId</th>\n",
              "      <th>blockReason</th>\n",
              "      <th>blockedBy</th>\n",
              "      <th>blockedOn</th>\n",
              "      <th>days_from_register</th>\n",
              "      <th>Multiple_Accounts</th>\n",
              "      <th>RoomTypes</th>\n",
              "    </tr>\n",
              "  </thead>\n",
              "  <tbody>\n",
              "    <tr>\n",
              "      <th>0</th>\n",
              "      <td>0</td>\n",
              "      <td>1</td>\n",
              "      <td>600c369da868280027776f6b</td>\n",
              "      <td>nepalmondal361@gmail.com</td>\n",
              "      <td>2021-01-23</td>\n",
              "      <td>False</td>\n",
              "      <td>False</td>\n",
              "      <td>False</td>\n",
              "      <td>Nepal123</td>\n",
              "      <td>155119923</td>\n",
              "      <td>NaN</td>\n",
              "      <td>NaN</td>\n",
              "      <td>NaN</td>\n",
              "      <td>0</td>\n",
              "      <td>False</td>\n",
              "      <td>nepalmondal361</td>\n",
              "    </tr>\n",
              "    <tr>\n",
              "      <th>1</th>\n",
              "      <td>1</td>\n",
              "      <td>2</td>\n",
              "      <td>600c34a4a868280027776f69</td>\n",
              "      <td>vishum333@gmail.com</td>\n",
              "      <td>2021-01-23</td>\n",
              "      <td>False</td>\n",
              "      <td>False</td>\n",
              "      <td>False</td>\n",
              "      <td>C0mmander</td>\n",
              "      <td>155119587</td>\n",
              "      <td>NaN</td>\n",
              "      <td>NaN</td>\n",
              "      <td>NaN</td>\n",
              "      <td>0</td>\n",
              "      <td>False</td>\n",
              "      <td>vishum333</td>\n",
              "    </tr>\n",
              "    <tr>\n",
              "      <th>2</th>\n",
              "      <td>2</td>\n",
              "      <td>3</td>\n",
              "      <td>600c28daa868280027776f61</td>\n",
              "      <td>notifyamam123@gmail.com</td>\n",
              "      <td>2021-01-23</td>\n",
              "      <td>False</td>\n",
              "      <td>False</td>\n",
              "      <td>False</td>\n",
              "      <td>igotthenuts</td>\n",
              "      <td>155113168</td>\n",
              "      <td>NaN</td>\n",
              "      <td>NaN</td>\n",
              "      <td>NaN</td>\n",
              "      <td>0</td>\n",
              "      <td>False</td>\n",
              "      <td>notifyamam123</td>\n",
              "    </tr>\n",
              "    <tr>\n",
              "      <th>3</th>\n",
              "      <td>3</td>\n",
              "      <td>4</td>\n",
              "      <td>600c1cb5a868280027776f59</td>\n",
              "      <td>dhamgayeindu@gmail.com</td>\n",
              "      <td>2021-01-23</td>\n",
              "      <td>False</td>\n",
              "      <td>False</td>\n",
              "      <td>False</td>\n",
              "      <td>shetty5</td>\n",
              "      <td>155107318</td>\n",
              "      <td>NaN</td>\n",
              "      <td>NaN</td>\n",
              "      <td>NaN</td>\n",
              "      <td>0</td>\n",
              "      <td>False</td>\n",
              "      <td>dhamgayeindu</td>\n",
              "    </tr>\n",
              "    <tr>\n",
              "      <th>4</th>\n",
              "      <td>4</td>\n",
              "      <td>5</td>\n",
              "      <td>600bfb5ea868280027776f47</td>\n",
              "      <td>abhishekyad969@gmail.com</td>\n",
              "      <td>2021-01-23</td>\n",
              "      <td>False</td>\n",
              "      <td>False</td>\n",
              "      <td>False</td>\n",
              "      <td>Abhi969</td>\n",
              "      <td>155089556</td>\n",
              "      <td>NaN</td>\n",
              "      <td>NaN</td>\n",
              "      <td>NaN</td>\n",
              "      <td>0</td>\n",
              "      <td>False</td>\n",
              "      <td>abhishekyad969</td>\n",
              "    </tr>\n",
              "  </tbody>\n",
              "</table>\n",
              "</div>"
            ],
            "text/plain": [
              "   key_0  Unnamed: 0  ... Multiple_Accounts       RoomTypes\n",
              "0  0      1           ...  False             nepalmondal361\n",
              "1  1      2           ...  False             vishum333     \n",
              "2  2      3           ...  False             notifyamam123 \n",
              "3  3      4           ...  False             dhamgayeindu  \n",
              "4  4      5           ...  False             abhishekyad969\n",
              "\n",
              "[5 rows x 16 columns]"
            ]
          },
          "metadata": {
            "tags": []
          },
          "execution_count": 37
        }
      ]
    },
    {
      "cell_type": "code",
      "metadata": {
        "colab": {
          "base_uri": "https://localhost:8080/",
          "height": 316
        },
        "id": "N0fBV3p57hh-",
        "outputId": "5c5e2c32-5a8c-48ae-db7f-276dbb5c4cd4"
      },
      "source": [
        "#cross checkking simialrity with initial database and then flagging the fraud ones\r\n",
        "\r\n",
        "for i in user2.index:\r\n",
        "  for j in matches_df.index:\r\n",
        "   if  user2.loc[i,'RoomTypes'] == matches_df.loc[j,'left_side']:\r\n",
        "     user2.loc[i,'Multiple_Accounts'] = 'True'\r\n",
        "   if  user2.loc[i,'RoomTypes'] == matches_df.loc[j,'right_side']:\r\n",
        "     user2.loc[i,'Multiple_Accounts'] = 'True'    \r\n",
        "\r\n",
        "user2.head()"
      ],
      "execution_count": null,
      "outputs": [
        {
          "output_type": "execute_result",
          "data": {
            "text/html": [
              "<div>\n",
              "<style scoped>\n",
              "    .dataframe tbody tr th:only-of-type {\n",
              "        vertical-align: middle;\n",
              "    }\n",
              "\n",
              "    .dataframe tbody tr th {\n",
              "        vertical-align: top;\n",
              "    }\n",
              "\n",
              "    .dataframe thead th {\n",
              "        text-align: right;\n",
              "    }\n",
              "</style>\n",
              "<table border=\"1\" class=\"dataframe\">\n",
              "  <thead>\n",
              "    <tr style=\"text-align: right;\">\n",
              "      <th></th>\n",
              "      <th>key_0</th>\n",
              "      <th>Unnamed: 0</th>\n",
              "      <th>_id</th>\n",
              "      <th>email</th>\n",
              "      <th>created</th>\n",
              "      <th>isBlocked</th>\n",
              "      <th>isKycComplete</th>\n",
              "      <th>isFullKycComplete</th>\n",
              "      <th>username</th>\n",
              "      <th>enterraUserId</th>\n",
              "      <th>blockReason</th>\n",
              "      <th>blockedBy</th>\n",
              "      <th>blockedOn</th>\n",
              "      <th>days_from_register</th>\n",
              "      <th>Multiple_Accounts</th>\n",
              "      <th>RoomTypes</th>\n",
              "    </tr>\n",
              "  </thead>\n",
              "  <tbody>\n",
              "    <tr>\n",
              "      <th>0</th>\n",
              "      <td>0</td>\n",
              "      <td>1</td>\n",
              "      <td>600c369da868280027776f6b</td>\n",
              "      <td>nepalmondal361@gmail.com</td>\n",
              "      <td>2021-01-23</td>\n",
              "      <td>False</td>\n",
              "      <td>False</td>\n",
              "      <td>False</td>\n",
              "      <td>Nepal123</td>\n",
              "      <td>155119923</td>\n",
              "      <td>NaN</td>\n",
              "      <td>NaN</td>\n",
              "      <td>NaN</td>\n",
              "      <td>0</td>\n",
              "      <td>False</td>\n",
              "      <td>nepalmondal361</td>\n",
              "    </tr>\n",
              "    <tr>\n",
              "      <th>1</th>\n",
              "      <td>1</td>\n",
              "      <td>2</td>\n",
              "      <td>600c34a4a868280027776f69</td>\n",
              "      <td>vishum333@gmail.com</td>\n",
              "      <td>2021-01-23</td>\n",
              "      <td>False</td>\n",
              "      <td>False</td>\n",
              "      <td>False</td>\n",
              "      <td>C0mmander</td>\n",
              "      <td>155119587</td>\n",
              "      <td>NaN</td>\n",
              "      <td>NaN</td>\n",
              "      <td>NaN</td>\n",
              "      <td>0</td>\n",
              "      <td>False</td>\n",
              "      <td>vishum333</td>\n",
              "    </tr>\n",
              "    <tr>\n",
              "      <th>2</th>\n",
              "      <td>2</td>\n",
              "      <td>3</td>\n",
              "      <td>600c28daa868280027776f61</td>\n",
              "      <td>notifyamam123@gmail.com</td>\n",
              "      <td>2021-01-23</td>\n",
              "      <td>False</td>\n",
              "      <td>False</td>\n",
              "      <td>False</td>\n",
              "      <td>igotthenuts</td>\n",
              "      <td>155113168</td>\n",
              "      <td>NaN</td>\n",
              "      <td>NaN</td>\n",
              "      <td>NaN</td>\n",
              "      <td>0</td>\n",
              "      <td>False</td>\n",
              "      <td>notifyamam123</td>\n",
              "    </tr>\n",
              "    <tr>\n",
              "      <th>3</th>\n",
              "      <td>3</td>\n",
              "      <td>4</td>\n",
              "      <td>600c1cb5a868280027776f59</td>\n",
              "      <td>dhamgayeindu@gmail.com</td>\n",
              "      <td>2021-01-23</td>\n",
              "      <td>False</td>\n",
              "      <td>False</td>\n",
              "      <td>False</td>\n",
              "      <td>shetty5</td>\n",
              "      <td>155107318</td>\n",
              "      <td>NaN</td>\n",
              "      <td>NaN</td>\n",
              "      <td>NaN</td>\n",
              "      <td>0</td>\n",
              "      <td>False</td>\n",
              "      <td>dhamgayeindu</td>\n",
              "    </tr>\n",
              "    <tr>\n",
              "      <th>4</th>\n",
              "      <td>4</td>\n",
              "      <td>5</td>\n",
              "      <td>600bfb5ea868280027776f47</td>\n",
              "      <td>abhishekyad969@gmail.com</td>\n",
              "      <td>2021-01-23</td>\n",
              "      <td>False</td>\n",
              "      <td>False</td>\n",
              "      <td>False</td>\n",
              "      <td>Abhi969</td>\n",
              "      <td>155089556</td>\n",
              "      <td>NaN</td>\n",
              "      <td>NaN</td>\n",
              "      <td>NaN</td>\n",
              "      <td>0</td>\n",
              "      <td>False</td>\n",
              "      <td>abhishekyad969</td>\n",
              "    </tr>\n",
              "  </tbody>\n",
              "</table>\n",
              "</div>"
            ],
            "text/plain": [
              "   key_0  Unnamed: 0  ... Multiple_Accounts       RoomTypes\n",
              "0  0      1           ...  False             nepalmondal361\n",
              "1  1      2           ...  False             vishum333     \n",
              "2  2      3           ...  False             notifyamam123 \n",
              "3  3      4           ...  False             dhamgayeindu  \n",
              "4  4      5           ...  False             abhishekyad969\n",
              "\n",
              "[5 rows x 16 columns]"
            ]
          },
          "metadata": {
            "tags": []
          },
          "execution_count": 38
        }
      ]
    },
    {
      "cell_type": "code",
      "metadata": {
        "colab": {
          "base_uri": "https://localhost:8080/"
        },
        "id": "z-muyclwA1Av",
        "outputId": "9161ea98-f5b8-4e89-bb54-13f0314c82f1"
      },
      "source": [
        "user2.Multiple_Accounts.value_counts()"
      ],
      "execution_count": null,
      "outputs": [
        {
          "output_type": "execute_result",
          "data": {
            "text/plain": [
              "False    627\n",
              "True     4  \n",
              "Name: Multiple_Accounts, dtype: int64"
            ]
          },
          "metadata": {
            "tags": []
          },
          "execution_count": 39
        }
      ]
    },
    {
      "cell_type": "code",
      "metadata": {
        "colab": {
          "base_uri": "https://localhost:8080/",
          "height": 270
        },
        "id": "ndD8mPjUCByM",
        "outputId": "d7c29f20-f9b9-40bb-ca36-5212a15d2c79"
      },
      "source": [
        "#these are the fraud users registered in last 14 days\r\n",
        "\r\n",
        "user2[user2['Multiple_Accounts']=='True']"
      ],
      "execution_count": null,
      "outputs": [
        {
          "output_type": "execute_result",
          "data": {
            "text/html": [
              "<div>\n",
              "<style scoped>\n",
              "    .dataframe tbody tr th:only-of-type {\n",
              "        vertical-align: middle;\n",
              "    }\n",
              "\n",
              "    .dataframe tbody tr th {\n",
              "        vertical-align: top;\n",
              "    }\n",
              "\n",
              "    .dataframe thead th {\n",
              "        text-align: right;\n",
              "    }\n",
              "</style>\n",
              "<table border=\"1\" class=\"dataframe\">\n",
              "  <thead>\n",
              "    <tr style=\"text-align: right;\">\n",
              "      <th></th>\n",
              "      <th>key_0</th>\n",
              "      <th>Unnamed: 0</th>\n",
              "      <th>_id</th>\n",
              "      <th>email</th>\n",
              "      <th>created</th>\n",
              "      <th>isBlocked</th>\n",
              "      <th>isKycComplete</th>\n",
              "      <th>isFullKycComplete</th>\n",
              "      <th>username</th>\n",
              "      <th>enterraUserId</th>\n",
              "      <th>blockReason</th>\n",
              "      <th>blockedBy</th>\n",
              "      <th>blockedOn</th>\n",
              "      <th>days_from_register</th>\n",
              "      <th>Multiple_Accounts</th>\n",
              "      <th>RoomTypes</th>\n",
              "    </tr>\n",
              "  </thead>\n",
              "  <tbody>\n",
              "    <tr>\n",
              "      <th>116</th>\n",
              "      <td>116</td>\n",
              "      <td>117</td>\n",
              "      <td>60069aff27fcd60026cb53a6</td>\n",
              "      <td>tech+testaccount566@9stacks.com</td>\n",
              "      <td>2021-01-19</td>\n",
              "      <td>False</td>\n",
              "      <td>False</td>\n",
              "      <td>False</td>\n",
              "      <td>Testaccount566</td>\n",
              "      <td>154620830</td>\n",
              "      <td>testing</td>\n",
              "      <td>farhan@9stacks.com</td>\n",
              "      <td>NaN</td>\n",
              "      <td>4</td>\n",
              "      <td>True</td>\n",
              "      <td>tech+testaccount566</td>\n",
              "    </tr>\n",
              "    <tr>\n",
              "      <th>117</th>\n",
              "      <td>117</td>\n",
              "      <td>118</td>\n",
              "      <td>60069aba27fcd60026cb53a4</td>\n",
              "      <td>tech+testaccount565@9stacks.com</td>\n",
              "      <td>2021-01-19</td>\n",
              "      <td>False</td>\n",
              "      <td>False</td>\n",
              "      <td>False</td>\n",
              "      <td>Testaccount565</td>\n",
              "      <td>154620242</td>\n",
              "      <td>NaN</td>\n",
              "      <td>NaN</td>\n",
              "      <td>NaN</td>\n",
              "      <td>4</td>\n",
              "      <td>True</td>\n",
              "      <td>tech+testaccount565</td>\n",
              "    </tr>\n",
              "    <tr>\n",
              "      <th>118</th>\n",
              "      <td>118</td>\n",
              "      <td>119</td>\n",
              "      <td>60069a7427fcd60026cb53a2</td>\n",
              "      <td>tech+testaccount564@9stacks.com</td>\n",
              "      <td>2021-01-19</td>\n",
              "      <td>False</td>\n",
              "      <td>False</td>\n",
              "      <td>False</td>\n",
              "      <td>Testaccount564</td>\n",
              "      <td>154620181</td>\n",
              "      <td>NaN</td>\n",
              "      <td>NaN</td>\n",
              "      <td>NaN</td>\n",
              "      <td>4</td>\n",
              "      <td>True</td>\n",
              "      <td>tech+testaccount564</td>\n",
              "    </tr>\n",
              "    <tr>\n",
              "      <th>119</th>\n",
              "      <td>119</td>\n",
              "      <td>120</td>\n",
              "      <td>60069a1a27fcd60026cb53a0</td>\n",
              "      <td>tech+testaccount563@9stacks.com</td>\n",
              "      <td>2021-01-19</td>\n",
              "      <td>False</td>\n",
              "      <td>False</td>\n",
              "      <td>False</td>\n",
              "      <td>Testaccount563</td>\n",
              "      <td>154620123</td>\n",
              "      <td>NaN</td>\n",
              "      <td>NaN</td>\n",
              "      <td>NaN</td>\n",
              "      <td>4</td>\n",
              "      <td>True</td>\n",
              "      <td>tech+testaccount563</td>\n",
              "    </tr>\n",
              "  </tbody>\n",
              "</table>\n",
              "</div>"
            ],
            "text/plain": [
              "     key_0  Unnamed: 0  ... Multiple_Accounts            RoomTypes\n",
              "116  116    117         ...  True              tech+testaccount566\n",
              "117  117    118         ...  True              tech+testaccount565\n",
              "118  118    119         ...  True              tech+testaccount564\n",
              "119  119    120         ...  True              tech+testaccount563\n",
              "\n",
              "[4 rows x 16 columns]"
            ]
          },
          "metadata": {
            "tags": []
          },
          "execution_count": 40
        }
      ]
    },
    {
      "cell_type": "code",
      "metadata": {
        "colab": {
          "base_uri": "https://localhost:8080/"
        },
        "id": "V6XLN7kzwjke",
        "outputId": "01d44cc0-a53f-4276-dc1a-f6142a244616"
      },
      "source": [
        "user['days_from_register'].value_counts()"
      ],
      "execution_count": null,
      "outputs": [
        {
          "output_type": "execute_result",
          "data": {
            "text/plain": [
              "9     151\n",
              "10    100\n",
              "11    66 \n",
              "8     48 \n",
              "7     45 \n",
              "2     37 \n",
              "13    30 \n",
              "3     28 \n",
              "1     27 \n",
              "5     25 \n",
              "4     24 \n",
              "6     21 \n",
              "12    16 \n",
              "0     13 \n",
              "Name: days_from_register, dtype: int64"
            ]
          },
          "metadata": {
            "tags": []
          },
          "execution_count": 41
        }
      ]
    },
    {
      "cell_type": "code",
      "metadata": {
        "id": "ygTs9rHqw-tv"
      },
      "source": [
        ""
      ],
      "execution_count": null,
      "outputs": []
    }
  ]
}