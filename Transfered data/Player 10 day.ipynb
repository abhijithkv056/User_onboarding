{
 "cells": [
  {
   "cell_type": "code",
   "execution_count": 5,
   "metadata": {},
   "outputs": [],
   "source": [
    "import numpy as np\n",
    "import pandas as pd\n",
    "import plotly.express as px\n",
    "import plotly.graph_objects as go"
   ]
  },
  {
   "cell_type": "code",
   "execution_count": 6,
   "metadata": {},
   "outputs": [
    {
     "ename": "FileNotFoundError",
     "evalue": "[Errno 2] No such file or directory: 'C:\\\\Users\\\\Admin\\\\Desktop\\\\9stacks\\\\data\\\\cash hands wins.csv'",
     "output_type": "error",
     "traceback": [
      "\u001b[1;31m---------------------------------------------------------------------------\u001b[0m",
      "\u001b[1;31mFileNotFoundError\u001b[0m                         Traceback (most recent call last)",
      "\u001b[1;32m<ipython-input-6-1281321f4941>\u001b[0m in \u001b[0;36m<module>\u001b[1;34m\u001b[0m\n\u001b[1;32m----> 1\u001b[1;33m \u001b[0mwins\u001b[0m \u001b[1;33m=\u001b[0m \u001b[0mpd\u001b[0m\u001b[1;33m.\u001b[0m\u001b[0mread_csv\u001b[0m\u001b[1;33m(\u001b[0m\u001b[1;34mr'C:\\Users\\Admin\\Desktop\\9stacks\\data\\cash hands wins.csv'\u001b[0m\u001b[1;33m)\u001b[0m\u001b[1;33m\u001b[0m\u001b[1;33m\u001b[0m\u001b[0m\n\u001b[0m\u001b[0;32m      2\u001b[0m \u001b[0mflush\u001b[0m \u001b[1;33m=\u001b[0m \u001b[0mpd\u001b[0m\u001b[1;33m.\u001b[0m\u001b[0mread_csv\u001b[0m\u001b[1;33m(\u001b[0m\u001b[1;34mr'C:\\Users\\Admin\\Desktop\\9stacks\\data\\flush and above.csv'\u001b[0m\u001b[1;33m)\u001b[0m\u001b[1;33m\u001b[0m\u001b[1;33m\u001b[0m\u001b[0m\n",
      "\u001b[1;32m~\\anaconda3\\lib\\site-packages\\pandas\\io\\parsers.py\u001b[0m in \u001b[0;36mread_csv\u001b[1;34m(filepath_or_buffer, sep, delimiter, header, names, index_col, usecols, squeeze, prefix, mangle_dupe_cols, dtype, engine, converters, true_values, false_values, skipinitialspace, skiprows, skipfooter, nrows, na_values, keep_default_na, na_filter, verbose, skip_blank_lines, parse_dates, infer_datetime_format, keep_date_col, date_parser, dayfirst, cache_dates, iterator, chunksize, compression, thousands, decimal, lineterminator, quotechar, quoting, doublequote, escapechar, comment, encoding, dialect, error_bad_lines, warn_bad_lines, delim_whitespace, low_memory, memory_map, float_precision)\u001b[0m\n\u001b[0;32m    684\u001b[0m     )\n\u001b[0;32m    685\u001b[0m \u001b[1;33m\u001b[0m\u001b[0m\n\u001b[1;32m--> 686\u001b[1;33m     \u001b[1;32mreturn\u001b[0m \u001b[0m_read\u001b[0m\u001b[1;33m(\u001b[0m\u001b[0mfilepath_or_buffer\u001b[0m\u001b[1;33m,\u001b[0m \u001b[0mkwds\u001b[0m\u001b[1;33m)\u001b[0m\u001b[1;33m\u001b[0m\u001b[1;33m\u001b[0m\u001b[0m\n\u001b[0m\u001b[0;32m    687\u001b[0m \u001b[1;33m\u001b[0m\u001b[0m\n\u001b[0;32m    688\u001b[0m \u001b[1;33m\u001b[0m\u001b[0m\n",
      "\u001b[1;32m~\\anaconda3\\lib\\site-packages\\pandas\\io\\parsers.py\u001b[0m in \u001b[0;36m_read\u001b[1;34m(filepath_or_buffer, kwds)\u001b[0m\n\u001b[0;32m    450\u001b[0m \u001b[1;33m\u001b[0m\u001b[0m\n\u001b[0;32m    451\u001b[0m     \u001b[1;31m# Create the parser.\u001b[0m\u001b[1;33m\u001b[0m\u001b[1;33m\u001b[0m\u001b[1;33m\u001b[0m\u001b[0m\n\u001b[1;32m--> 452\u001b[1;33m     \u001b[0mparser\u001b[0m \u001b[1;33m=\u001b[0m \u001b[0mTextFileReader\u001b[0m\u001b[1;33m(\u001b[0m\u001b[0mfp_or_buf\u001b[0m\u001b[1;33m,\u001b[0m \u001b[1;33m**\u001b[0m\u001b[0mkwds\u001b[0m\u001b[1;33m)\u001b[0m\u001b[1;33m\u001b[0m\u001b[1;33m\u001b[0m\u001b[0m\n\u001b[0m\u001b[0;32m    453\u001b[0m \u001b[1;33m\u001b[0m\u001b[0m\n\u001b[0;32m    454\u001b[0m     \u001b[1;32mif\u001b[0m \u001b[0mchunksize\u001b[0m \u001b[1;32mor\u001b[0m \u001b[0miterator\u001b[0m\u001b[1;33m:\u001b[0m\u001b[1;33m\u001b[0m\u001b[1;33m\u001b[0m\u001b[0m\n",
      "\u001b[1;32m~\\anaconda3\\lib\\site-packages\\pandas\\io\\parsers.py\u001b[0m in \u001b[0;36m__init__\u001b[1;34m(self, f, engine, **kwds)\u001b[0m\n\u001b[0;32m    944\u001b[0m             \u001b[0mself\u001b[0m\u001b[1;33m.\u001b[0m\u001b[0moptions\u001b[0m\u001b[1;33m[\u001b[0m\u001b[1;34m\"has_index_names\"\u001b[0m\u001b[1;33m]\u001b[0m \u001b[1;33m=\u001b[0m \u001b[0mkwds\u001b[0m\u001b[1;33m[\u001b[0m\u001b[1;34m\"has_index_names\"\u001b[0m\u001b[1;33m]\u001b[0m\u001b[1;33m\u001b[0m\u001b[1;33m\u001b[0m\u001b[0m\n\u001b[0;32m    945\u001b[0m \u001b[1;33m\u001b[0m\u001b[0m\n\u001b[1;32m--> 946\u001b[1;33m         \u001b[0mself\u001b[0m\u001b[1;33m.\u001b[0m\u001b[0m_make_engine\u001b[0m\u001b[1;33m(\u001b[0m\u001b[0mself\u001b[0m\u001b[1;33m.\u001b[0m\u001b[0mengine\u001b[0m\u001b[1;33m)\u001b[0m\u001b[1;33m\u001b[0m\u001b[1;33m\u001b[0m\u001b[0m\n\u001b[0m\u001b[0;32m    947\u001b[0m \u001b[1;33m\u001b[0m\u001b[0m\n\u001b[0;32m    948\u001b[0m     \u001b[1;32mdef\u001b[0m \u001b[0mclose\u001b[0m\u001b[1;33m(\u001b[0m\u001b[0mself\u001b[0m\u001b[1;33m)\u001b[0m\u001b[1;33m:\u001b[0m\u001b[1;33m\u001b[0m\u001b[1;33m\u001b[0m\u001b[0m\n",
      "\u001b[1;32m~\\anaconda3\\lib\\site-packages\\pandas\\io\\parsers.py\u001b[0m in \u001b[0;36m_make_engine\u001b[1;34m(self, engine)\u001b[0m\n\u001b[0;32m   1176\u001b[0m     \u001b[1;32mdef\u001b[0m \u001b[0m_make_engine\u001b[0m\u001b[1;33m(\u001b[0m\u001b[0mself\u001b[0m\u001b[1;33m,\u001b[0m \u001b[0mengine\u001b[0m\u001b[1;33m=\u001b[0m\u001b[1;34m\"c\"\u001b[0m\u001b[1;33m)\u001b[0m\u001b[1;33m:\u001b[0m\u001b[1;33m\u001b[0m\u001b[1;33m\u001b[0m\u001b[0m\n\u001b[0;32m   1177\u001b[0m         \u001b[1;32mif\u001b[0m \u001b[0mengine\u001b[0m \u001b[1;33m==\u001b[0m \u001b[1;34m\"c\"\u001b[0m\u001b[1;33m:\u001b[0m\u001b[1;33m\u001b[0m\u001b[1;33m\u001b[0m\u001b[0m\n\u001b[1;32m-> 1178\u001b[1;33m             \u001b[0mself\u001b[0m\u001b[1;33m.\u001b[0m\u001b[0m_engine\u001b[0m \u001b[1;33m=\u001b[0m \u001b[0mCParserWrapper\u001b[0m\u001b[1;33m(\u001b[0m\u001b[0mself\u001b[0m\u001b[1;33m.\u001b[0m\u001b[0mf\u001b[0m\u001b[1;33m,\u001b[0m \u001b[1;33m**\u001b[0m\u001b[0mself\u001b[0m\u001b[1;33m.\u001b[0m\u001b[0moptions\u001b[0m\u001b[1;33m)\u001b[0m\u001b[1;33m\u001b[0m\u001b[1;33m\u001b[0m\u001b[0m\n\u001b[0m\u001b[0;32m   1179\u001b[0m         \u001b[1;32melse\u001b[0m\u001b[1;33m:\u001b[0m\u001b[1;33m\u001b[0m\u001b[1;33m\u001b[0m\u001b[0m\n\u001b[0;32m   1180\u001b[0m             \u001b[1;32mif\u001b[0m \u001b[0mengine\u001b[0m \u001b[1;33m==\u001b[0m \u001b[1;34m\"python\"\u001b[0m\u001b[1;33m:\u001b[0m\u001b[1;33m\u001b[0m\u001b[1;33m\u001b[0m\u001b[0m\n",
      "\u001b[1;32m~\\anaconda3\\lib\\site-packages\\pandas\\io\\parsers.py\u001b[0m in \u001b[0;36m__init__\u001b[1;34m(self, src, **kwds)\u001b[0m\n\u001b[0;32m   2006\u001b[0m         \u001b[0mkwds\u001b[0m\u001b[1;33m[\u001b[0m\u001b[1;34m\"usecols\"\u001b[0m\u001b[1;33m]\u001b[0m \u001b[1;33m=\u001b[0m \u001b[0mself\u001b[0m\u001b[1;33m.\u001b[0m\u001b[0musecols\u001b[0m\u001b[1;33m\u001b[0m\u001b[1;33m\u001b[0m\u001b[0m\n\u001b[0;32m   2007\u001b[0m \u001b[1;33m\u001b[0m\u001b[0m\n\u001b[1;32m-> 2008\u001b[1;33m         \u001b[0mself\u001b[0m\u001b[1;33m.\u001b[0m\u001b[0m_reader\u001b[0m \u001b[1;33m=\u001b[0m \u001b[0mparsers\u001b[0m\u001b[1;33m.\u001b[0m\u001b[0mTextReader\u001b[0m\u001b[1;33m(\u001b[0m\u001b[0msrc\u001b[0m\u001b[1;33m,\u001b[0m \u001b[1;33m**\u001b[0m\u001b[0mkwds\u001b[0m\u001b[1;33m)\u001b[0m\u001b[1;33m\u001b[0m\u001b[1;33m\u001b[0m\u001b[0m\n\u001b[0m\u001b[0;32m   2009\u001b[0m         \u001b[0mself\u001b[0m\u001b[1;33m.\u001b[0m\u001b[0munnamed_cols\u001b[0m \u001b[1;33m=\u001b[0m \u001b[0mself\u001b[0m\u001b[1;33m.\u001b[0m\u001b[0m_reader\u001b[0m\u001b[1;33m.\u001b[0m\u001b[0munnamed_cols\u001b[0m\u001b[1;33m\u001b[0m\u001b[1;33m\u001b[0m\u001b[0m\n\u001b[0;32m   2010\u001b[0m \u001b[1;33m\u001b[0m\u001b[0m\n",
      "\u001b[1;32mpandas\\_libs\\parsers.pyx\u001b[0m in \u001b[0;36mpandas._libs.parsers.TextReader.__cinit__\u001b[1;34m()\u001b[0m\n",
      "\u001b[1;32mpandas\\_libs\\parsers.pyx\u001b[0m in \u001b[0;36mpandas._libs.parsers.TextReader._setup_parser_source\u001b[1;34m()\u001b[0m\n",
      "\u001b[1;31mFileNotFoundError\u001b[0m: [Errno 2] No such file or directory: 'C:\\\\Users\\\\Admin\\\\Desktop\\\\9stacks\\\\data\\\\cash hands wins.csv'"
     ]
    }
   ],
   "source": [
    "wins = pd.read_csv(r'C:\\Users\\Admin\\Desktop\\9stacks\\data\\cash hands wins.csv')\n",
    "flush = pd.read_csv(r'C:\\Users\\Admin\\Desktop\\9stacks\\data\\flush and above.csv')"
   ]
  },
  {
   "cell_type": "code",
   "execution_count": null,
   "metadata": {},
   "outputs": [],
   "source": [
    "cash_games = pd.read_csv(r'C:\\Users\\Admin\\Desktop\\9stacks\\players cash daily.csv')\n",
    "cash_winnings = pd.read_csv(r'C:\\Users\\Admin\\Desktop\\9stacks\\player cash winnings daily.csv')\n",
    "cashout = pd.read_csv(r'C:\\Users\\Admin\\Desktop\\9stacks\\cashout daily.csv')\n",
    "deposit = pd.read_csv(r'C:\\Users\\Admin\\Desktop\\9stacks\\deposit daily.csv')\n",
    "tourney_games = pd.read_csv(r'C:\\Users\\Admin\\Desktop\\9stacks\\players tourney daily.csv')\n",
    "users = pd.read_csv(r'C:\\Users\\Admin\\Desktop\\9stacks\\users july-Oct.csv')\n",
    "users2 = pd.read_csv(r'C:\\Users\\Admin\\Desktop\\9stacks\\users feb-nov.csv')\n",
    "freeroll_hands = pd.read_csv(r'C:\\Users\\Admin\\Desktop\\9stacks\\freeroll hands.csv')\n",
    "tourney_hands = pd.read_csv(r'C:\\Users\\Admin\\Desktop\\9stacks\\tournament hands.csv')\n",
    "cash_wages = pd.read_csv(r'C:\\Users\\Admin\\Desktop\\9stacks\\cash wagering.csv')\n",
    "user_points = pd.read_csv(r'C:\\Users\\Admin\\Desktop\\9stacks\\data\\loyalty points.csv')"
   ]
  },
  {
   "cell_type": "code",
   "execution_count": null,
   "metadata": {},
   "outputs": [],
   "source": [
    "# Removing bloacked users\n",
    "users['created'] = pd.to_datetime(users['created'],format = '%d-%m-%Y %H:%M')\n",
    "users['created'] = users['created'].dt.date\n",
    "users2['created'] = pd.to_datetime(users2['created'],format = '%d-%m-%Y %H:%M')\n",
    "users2['created'] = users2['created'].dt.date\n",
    "users_a = pd.merge(users,users2, on = ['player_id','created'],how = 'inner').drop(columns = ['user','Unnamed: 0'])\n",
    "users_a = users_a.loc[users_a['isBlocked']==False].drop(columns = ['isBlocked'])\n",
    "\n",
    "#Cash games\n",
    "cash_games['date'] = pd.to_datetime(cash_games['date'],format = '%Y-%m-%d')\n",
    "cash_games = pd.merge(cash_games,users_a,left_on = 'f_player_id',right_on =  'player_id',how  ='inner')\n",
    "cash_games = cash_games.drop(columns = ['player_id','_id'])\n",
    "cash_games['date'] = cash_games['date'].dt.date\n",
    "cash_games['days_from_register'] = (cash_games['date']- cash_games['created']).apply(lambda x:x.days)\n",
    "\n",
    "#cash wages\n",
    "cash_wages['date'] = pd.to_datetime(cash_wages['date'],format = '%Y-%m-%d')\n",
    "cash_wages = pd.merge(cash_wages,users_a,left_on = 'f_player_id',right_on =  'player_id',how  ='inner')\n",
    "cash_wages = cash_wages.drop(columns = ['player_id','_id'])\n",
    "cash_wages['date'] = cash_wages['date'].dt.date\n",
    "cash_wages['days_from_register'] = (cash_wages['date']- cash_wages['created']).apply(lambda x:x.days)\n",
    "\n",
    "#tourney games\n",
    "tourney_games['date'] = pd.to_datetime(tourney_games['date'],format = '%Y-%m-%d')\n",
    "tourney_games = pd.merge(tourney_games,users_a,left_on = 'f_player_id',right_on =  'player_id',how  ='inner')\n",
    "tourney_games = tourney_games.drop(columns = ['player_id','_id'])\n",
    "tourney_games['date'] = tourney_games['date'].dt.date\n",
    "tourney_games['days_from_register'] = (tourney_games['date']- tourney_games['created']).apply(lambda x:x.days)\n",
    "tourney_games['tourney_winnings'] = tourney_games['prize']- tourney_games['buyin']\n",
    "\n",
    "#tourney_hands\n",
    "tourney_hands['date'] = pd.to_datetime(tourney_hands['date'],format = '%Y-%m-%d')\n",
    "tourney_hands = pd.merge(tourney_hands,users_a,left_on = 'f_player_id',right_on =  'player_id',how  ='inner')\n",
    "tourney_hands = tourney_hands.drop(columns = ['player_id','_id'])\n",
    "tourney_hands['date'] = tourney_hands['date'].dt.date\n",
    "tourney_hands['days_from_register'] = (tourney_hands['date']- tourney_hands['created']).apply(lambda x:x.days)\n",
    "\n",
    "#freeroll_hands\n",
    "freeroll_hands['date'] = pd.to_datetime(freeroll_hands['date'],format = '%Y-%m-%d')\n",
    "freeroll_hands = pd.merge(freeroll_hands,users_a,left_on = 'f_player_id',right_on =  'player_id',how  ='inner')\n",
    "freeroll_hands = freeroll_hands.drop(columns = ['player_id','_id'])\n",
    "freeroll_hands['date'] = freeroll_hands['date'].dt.date\n",
    "freeroll_hands['days_from_register'] = (freeroll_hands['date']- freeroll_hands['created']).apply(lambda x:x.days)\n",
    "\n",
    "#cash_winnings\n",
    "cash_winnings['date'] = pd.to_datetime(cash_winnings['date'],format = '%Y-%m-%d')\n",
    "cash_winnings = pd.merge(cash_winnings,users_a,left_on = 'f_player_id',right_on='player_id',how = 'inner').drop(columns =['_id','player_id'])\n",
    "cash_winnings['date'] = cash_winnings['date'].dt.date\n",
    "cash_winnings['days_from_register'] = (cash_winnings['date']- cash_winnings['created']).apply(lambda x:x.days)\n",
    "\n",
    "#cashout\n",
    "cashout['date'] = pd.to_datetime(cashout['date'],format = '%Y-%m-%d')\n",
    "cashout = pd.merge(cashout,users_a,left_on = 'user',right_on = '_id',how = 'inner').drop(columns = ['user','_id'])\n",
    "cashout['date'] = cashout['date'].dt.date\n",
    "cashout['days_from_register'] = (cashout['date']- cashout['created']).apply(lambda x:x.days)\n",
    "\n",
    "#deposit\n",
    "deposit['date'] = pd.to_datetime(deposit['date'],format = '%Y-%m-%d')\n",
    "deposit = pd.merge(deposit,users,left_on = 'user',right_on = '_id',how = 'inner').drop(columns = ['user','_id'])\n",
    "deposit['date'] = deposit['date'].dt.date\n",
    "deposit['days_from_register'] = (deposit['date']- deposit['created']).apply(lambda x:x.days)\n",
    "deposit1 = deposit.loc[(deposit['days_from_register']>=0) & (deposit['days_from_register']<=20)]\n",
    "deposit1 = deposit1.sort_values(by = ['player_id','days_from_register'])\n",
    "\n",
    "#transactions\n",
    "transactions = pd.merge(deposit,cashout, on = ['player_id','date','created','days_from_register'],how= 'outer',suffixes = ('_deposit','_cashout'))"
   ]
  },
  {
   "cell_type": "code",
   "execution_count": null,
   "metadata": {},
   "outputs": [],
   "source": [
    "c = pd.DataFrame(cash_games['days_from_register'].value_counts())[:10]\n",
    "fig = px.bar(x = c.index,y = c['days_from_register'])\n",
    "fig.update_layout(xaxis_title = 'Days from Register',yaxis_title= 'Number of Cash games')\n",
    "fig.show()\n",
    "\n",
    "c = pd.DataFrame(cash_games.groupby('days_from_register')['rake'].mean())[:20]\n",
    "fig = px.bar(x = c.index,y = c['rake'])\n",
    "fig.update_layout(xaxis_title = 'Days from Register',yaxis_title= 'Average Rake')\n",
    "fig.show()"
   ]
  },
  {
   "cell_type": "code",
   "execution_count": null,
   "metadata": {},
   "outputs": [],
   "source": [
    "# Users who left in the first 10 days\n",
    "c = pd.DataFrame(cash_games.groupby('f_player_id')['days_from_register'].max())\n",
    "end_before_10 = np.array(c.loc[c['days_from_register']<10].index)\n",
    "w = []\n",
    "for i in cash_games.index:\n",
    "    if cash_games.loc[i,'f_player_id'] in end_before_10:\n",
    "        w.append(i)\n",
    "end_before_10 = cash_games.loc[w,:].sort_values(by = ['f_player_id','days_from_register'])\n",
    "\n",
    "# Users who left in the first 3 days\n",
    "end_before_3= np.array(c.loc[c['days_from_register']<3].index)\n",
    "w = []\n",
    "for i in cash_games.index:\n",
    "    if cash_games.loc[i,'f_player_id'] in end_before_3:\n",
    "        w.append(i)\n",
    "end_before_3= cash_games.loc[w,:].sort_values(by = ['f_player_id','days_from_register'])"
   ]
  },
  {
   "cell_type": "code",
   "execution_count": null,
   "metadata": {},
   "outputs": [],
   "source": [
    "#Last activity dataframe : d dataframe will have the last activity(cash games,tournaments,transactions)day for each user\n",
    "# -1 indicates user didnt do that particular activity\n",
    "a = set(cash_games['f_player_id'].unique())\n",
    "b = set(tourney_games['f_player_id'].unique())\n",
    "c = set(transactions['player_id'].unique())\n",
    "e = set(freeroll_hands['f_player_id'].unique())\n",
    "d = pd.DataFrame(a.union(b).union(c).union(e),columns = ['f_player_id'])\n",
    "d['cash_game_last'] = -1\n",
    "d['tourney_game_last'] = -1\n",
    "d['deposit_last'] = -1\n",
    "d['cashout_last'] = -1\n",
    "d['freeroll_last'] = -1\n",
    "\n",
    "c = pd.DataFrame(cash_games.groupby('f_player_id')['days_from_register'].max())\n",
    "for i in d.index:\n",
    "    if d.loc[i,'f_player_id'] in c.index:\n",
    "        d.loc[i,'cash_game_last'] = c.loc[d.loc[i,'f_player_id'],'days_from_register']\n",
    "\n",
    "c = pd.DataFrame(tourney_games.groupby('f_player_id')['days_from_register'].max())\n",
    "for i in d.index:\n",
    "    if d.loc[i,'f_player_id'] in c.index:\n",
    "        d.loc[i,'tourney_game_last'] = c.loc[d.loc[i,'f_player_id'],'days_from_register']\n",
    "        \n",
    "c = pd.DataFrame(cashout.groupby('player_id')['days_from_register'].max())\n",
    "for i in d.index:\n",
    "    if d.loc[i,'f_player_id'] in c.index:\n",
    "        d.loc[i,'cashout_last'] = c.loc[d.loc[i,'f_player_id'],'days_from_register']     \n",
    "        \n",
    "c = pd.DataFrame(deposit.groupby('player_id')['days_from_register'].max())\n",
    "for i in d.index:\n",
    "    if d.loc[i,'f_player_id'] in c.index:\n",
    "        d.loc[i,'deposit_last'] = c.loc[d.loc[i,'f_player_id'],'days_from_register']\n",
    "\n",
    "c = pd.DataFrame(freeroll_hands.groupby('f_player_id')['days_from_register'].max())\n",
    "for i in d.index:\n",
    "    if d.loc[i,'f_player_id'] in c.index:\n",
    "        d.loc[i,'freeroll_last'] = c.loc[d.loc[i,'f_player_id'],'days_from_register']\n",
    "\n",
    "        \n",
    "d['last_activity'] = d[['cash_game_last','tourney_game_last','deposit_last','cashout_last','freeroll_last']].max(axis=1)\n",
    "g = d.loc[d['last_activity']<0].index\n",
    "d = d.drop(index = g)"
   ]
  },
  {
   "cell_type": "code",
   "execution_count": null,
   "metadata": {},
   "outputs": [],
   "source": [
    "# Number of users who left per day in the first 15 days\n",
    "a = pd.DataFrame(d['last_activity'].value_counts()).sort_index()[:15]\n",
    "fig = go.Figure(data = go.Bar(x = a.index,y = a['last_activity'],text = a['last_activity'],textposition = 'outside'))\n",
    "fig.update_layout(xaxis_title = 'Days from Register',yaxis_title= 'Last Activity',title=  'Number of users who left in the first 15 days')"
   ]
  },
  {
   "cell_type": "code",
   "execution_count": null,
   "metadata": {},
   "outputs": [],
   "source": [
    "# Number of users still playing after each day\n",
    "t = pd.DataFrame(np.arange(0,100),columns = ['days_from_registration'])\n",
    "t['users'] = 0\n",
    "t.loc[0,'users'] = 7800\n",
    "for i in range(1,t.shape[0]):\n",
    "    t.loc[i,'users'] = t.loc[i-1,'users'] - len(d.loc[d['last_activity']==(i-1)])\n",
    "\n",
    "fig =  go.Figure(go.Bar(x = t['days_from_registration'],y = t['users']))\n",
    "fig.update_layout(title  = 'Total users after each day from their registration')"
   ]
  },
  {
   "cell_type": "code",
   "execution_count": null,
   "metadata": {},
   "outputs": [],
   "source": [
    "# Average cash games played by each user in the first month\n",
    "w = []\n",
    "e = []\n",
    "for i in np.arange(1,30):\n",
    "    w.append(len(cash_games.loc[cash_games['days_from_register']<i])+len(tourney_games.loc[tourney_games['days_from_register']<i])+ len(freeroll_hands.loc[freeroll_hands['days_from_register']<i]))\n",
    "for i in w:\n",
    "    e.append(round(i/7719,2))\n",
    "    \n",
    "fig =  go.Figure(go.Bar(x = np.arange(1,30),y = e))\n",
    "fig.update_layout(title  = 'Average number of games played per user till each day for the first month ')"
   ]
  },
  {
   "cell_type": "code",
   "execution_count": null,
   "metadata": {},
   "outputs": [],
   "source": [
    "# Average winnings(cash+tournament) of users who left at those days\n",
    "a = pd.DataFrame(cash_winnings.groupby('f_player_id')['cash_winning'].mean())\n",
    "b = pd.DataFrame(tourney_games.groupby('f_player_id')['tourney_winnings'].mean())\n",
    "c = pd.merge(a,b,on = 'f_player_id')\n",
    "c['total_winnings'] = c['cash_winning']+ c['tourney_winnings']\n",
    "\n",
    "c1 = c.loc[(c['total_winnings']<750) & (c['total_winnings']>-750)]\n",
    "p = pd.DataFrame(np.arange(0,31,1),columns = ['days'])\n",
    "p['Average Winnings'] = 0\n",
    "for i in np.arange(0,30):\n",
    "    k = np.array(d.loc[(d['last_activity']<p.loc[i+1,'days']) & (d['last_activity']>=p.loc[i,'days']),'f_player_id'])\n",
    "    w = []\n",
    "    for j in c.index:\n",
    "        if j in k:\n",
    "            w.append(j)\n",
    "    p.loc[i,'Average Winnings'] = c.loc[w,'total_winnings'].mean()\n",
    "\n",
    "fig =  go.Figure(go.Bar(x = p['days'],y = p['Average Winnings']))\n",
    "fig.update_layout(title  = 'Average winnings of users who left after a particular day')"
   ]
  },
  {
   "cell_type": "code",
   "execution_count": null,
   "metadata": {},
   "outputs": [],
   "source": [
    "#Collating all the data from different dataframes\n",
    "\n",
    "collated = pd.merge(cash_games,tourney_games,on = ['f_player_id','date','created','days_from_register'],how = 'outer')\n",
    "collated = pd.merge(collated,users,left_on = ['f_player_id','created'],right_on = ['player_id','created'],how = 'inner')\n",
    "collated = pd.merge(collated,transactions,left_on = ['f_player_id','date','created','days_from_register'],right_on = ['player_id','date','created','days_from_register'],how = 'outer')\n",
    "cash_games['avg_rake'] = cash_games['rake']* cash_games['hands']\n",
    "cash_games['avg_big_blind'] = cash_games['f_big_blind']*cash_games['hands']\n",
    "cash_games2 = cash_games.groupby(['f_player_id','date','created','days_from_register'],as_index = False)[['avg_rake','avg_big_blind','hands']].mean()\n",
    "tourney_games2 = tourney_games.groupby(['f_player_id','date','created','days_from_register'],as_index = False)['tourney_winnings'].mean()\n",
    "cash_winnings2 = cash_winnings.groupby(['f_player_id','date','created','days_from_register'],as_index = False)['cash_winning'].mean()\n",
    "transactions = transactions.fillna(0)\n",
    "transactions['total_deposit'] = transactions['amount_deposit'] * transactions['count_deposit']\n",
    "transactions['total_cashout'] = transactions['amount_cashout'] * transactions['count_cashout']\n",
    "transactions2 = transactions.groupby(['player_id','date','created','days_from_register'],as_index = False)['total_deposit','total_cashout'].mean()\n",
    "collate = pd.merge(cash_games2,tourney_games2, on = ['f_player_id','date','created','days_from_register'],how  ='outer')\n",
    "collate = pd.merge(collate,cash_winnings2,on =['f_player_id','date','created','days_from_register'],how  ='outer')\n",
    "h = pd.merge(collate,transactions,left_on = ['f_player_id','date','created','days_from_register'],right_on = ['player_id','date','created','days_from_register'],how  ='outer')\n",
    "h.loc[h['f_player_id'].isna()==True ,'f_player_id']= h.loc[h['f_player_id'].isna()==True,'player_id']\n",
    "collate = h.drop(columns =  ['player_id'])\n",
    "collate = pd.merge(collate,users,left_on = ['f_player_id','created'],right_on = ['player_id','created'],how = 'inner').drop(columns=  ['player_id'])\n",
    "collate = collate[['f_player_id','_id','created','date','days_from_register','avg_rake','avg_big_blind','hands','cash_winning','tourney_winnings','amount_deposit','count_deposit','amount_cashout','count_cashout']]"
   ]
  },
  {
   "cell_type": "code",
   "execution_count": null,
   "metadata": {},
   "outputs": [],
   "source": [
    "# Average cash hands per day in the first month\n",
    "a = pd.DataFrame(cash_games.groupby('days_from_register')['hands'].mean())[:30]\n",
    "fig = go.Figure(data = go.Bar(x = a.index,y = a['hands']))\n",
    "fig.update_layout(xaxis_title = 'Days from Registration',yaxis_title= 'Average Cash hands',title=  'Average cash hands per day by user')"
   ]
  },
  {
   "cell_type": "code",
   "execution_count": null,
   "metadata": {},
   "outputs": [],
   "source": [
    "# Average non-freeroll tournament hands each day in the first month\n",
    "a = pd.DataFrame(tourney_hands.groupby('days_from_register')['hands'].mean())[:30]\n",
    "fig = go.Figure(data = go.Bar(x = a.index,y = a['hands']))\n",
    "fig.update_layout(xaxis_title = 'Days from Registration',yaxis_title= 'Average Non-freeroll Tournament hands',title=  'Average Tournament hands per day by user')"
   ]
  },
  {
   "cell_type": "code",
   "execution_count": null,
   "metadata": {},
   "outputs": [],
   "source": [
    "# Average Freeroll hands each day in the first month\n",
    "a = pd.DataFrame(freeroll_hands.groupby('days_from_register')['hands'].mean())[:30]\n",
    "fig = go.Figure(data = go.Bar(x = a.index,y = a['hands']))\n",
    "fig.update_layout(xaxis_title = 'Days from Registration',yaxis_title= 'Average Freeroll hands',title=  'Average Freeroll hands per day by user')"
   ]
  },
  {
   "cell_type": "code",
   "execution_count": null,
   "metadata": {},
   "outputs": [],
   "source": [
    "# Average hands(total) played eah day in the first month\n",
    "a = pd.DataFrame(cash_games.groupby('days_from_register')['hands'].mean())[:90]\n",
    "b = pd.DataFrame(tourney_hands.groupby('days_from_register')['hands'].mean())[:90]\n",
    "c = pd.DataFrame(freeroll_hands.groupby('days_from_register')['hands'].mean())[:90]\n",
    "\n",
    "fig = go.Figure(go.Bar(x=np.arange(0,91), y = a['hands'], name='Cash Game Hands'))\n",
    "fig.add_trace(go.Bar(x= np.arange(0,91), y= b['hands'], name='Tournament hands'))\n",
    "\n",
    "fig.update_layout(barmode='stack', xaxis={'categoryorder':'category ascending'},\n",
    "                 xaxis_title = 'Days from Registration',yaxis_title = 'Average hands',\n",
    "                 title = 'Average hands for Cash and Tournament games')\n",
    "fig.show()"
   ]
  },
  {
   "cell_type": "code",
   "execution_count": null,
   "metadata": {},
   "outputs": [],
   "source": [
    "# Average tournament (freeroll+ non-freeroll) hands played in the first month\n",
    "a = pd.DataFrame(cash_games.groupby('days_from_register')['hands'].mean())[:30]\n",
    "b = pd.DataFrame(tourney_hands.groupby('days_from_register')['hands'].mean())[:30]\n",
    "c = pd.DataFrame(freeroll_hands.groupby('days_from_register')['hands'].mean())[:30]\n",
    "\n",
    "fig = go.Figure(go.Bar(x=np.arange(0,31), y = b['hands']-c['hands'], name='Cash Tournament Hands'))\n",
    "fig.add_trace(go.Bar(x= np.arange(0,31), y=b['hands'], name='Freeroll Tournament hands'))\n",
    "\n",
    "fig.update_layout(barmode='stack', xaxis={'categoryorder':'category ascending'},\n",
    "                 xaxis_title = 'Days from Registration',yaxis_title = 'Average hands',\n",
    "                 title = 'Average hands for different tournament games')\n",
    "fig.show()"
   ]
  },
  {
   "cell_type": "code",
   "execution_count": null,
   "metadata": {},
   "outputs": [],
   "source": [
    "#Average non-freeroll tournaments played per day by users\n",
    "a = pd.DataFrame(tourney_games.groupby('days_from_register')['no_of_tournaments'].mean())[1:30]\n",
    "fig = go.Figure(data = go.Bar(x = a.index,y = a['no_of_tournaments']))\n",
    "fig.update_layout(xaxis_title = 'Days from Registration',yaxis_title= 'Average Tournament games',title=  'Average Tournament games per day by user')"
   ]
  },
  {
   "cell_type": "markdown",
   "metadata": {},
   "source": [
    "### Making the model to define and test accuracy of our bucket system"
   ]
  },
  {
   "cell_type": "code",
   "execution_count": null,
   "metadata": {},
   "outputs": [],
   "source": [
    "#final dataframe will tell us about activity(cash wagering,tourney winnings,deposit and total hands played) of user in the first 3 days\n",
    "\n",
    "a = pd.DataFrame(cash_wages.loc[cash_wages['days_from_register']<3].groupby('f_player_id')['wager'].sum())\n",
    "b = pd.DataFrame(tourney_games.loc[tourney_games['days_from_register']<3].groupby('f_player_id')['buyin'].sum())\n",
    "c_hands =  pd.DataFrame(cash_games.loc[cash_games['days_from_register']<3].groupby('f_player_id')['hands'].sum())\n",
    "t_hands =  pd.DataFrame(tourney_hands.loc[tourney_hands['days_from_register']<3].groupby('f_player_id')['hands'].sum())\n",
    "f_hands =  pd.DataFrame(freeroll_hands.loc[freeroll_hands['days_from_register']<3].groupby('f_player_id')['hands'].sum())\n",
    "h =  pd.merge(c_hands,t_hands,on = ['f_player_id'],how = 'outer',suffixes = ('_cash','_tourney'))\n",
    "d = pd.merge(h,f_hands,on = 'f_player_id',how = 'outer').fillna(0)\n",
    "d['total'] = d['hands_cash']+d['hands_tourney'] + d['hands']\n",
    "d.reset_index(inplace=True)\n",
    "\n",
    "c = pd.DataFrame(deposit.loc[deposit['days_from_register']<3].groupby('player_id')['amount'].sum())\n",
    "c.reset_index(inplace=True)\n",
    "\n",
    "final = pd.merge(a,b,on = 'f_player_id',how = 'outer')\n",
    "final.reset_index(inplace=True)\n",
    "final = pd.merge(final,c, left_on ='f_player_id',right_on = 'player_id',how = 'outer')\n",
    "final['f_player_id'].fillna(final['player_id'],inplace=True)\n",
    "final = final.drop(columns=['player_id'])\n",
    "final = pd.merge(final,d[['f_player_id','total']],on = 'f_player_id',how = 'outer').fillna(0)"
   ]
  },
  {
   "cell_type": "code",
   "execution_count": null,
   "metadata": {},
   "outputs": [],
   "source": [
    "# Weightage system and cuts decided upon\n",
    "dep = [120,900]\n",
    "hands = [250,950]\n",
    "cash_wage = [400,1200]\n",
    "buyin = [12,500]\n",
    "weights = [0.3,0.1,0.3,0.3]\n",
    "points = [-1,1.25,2]\n",
    "score_limits = [-0.7,0.4]"
   ]
  },
  {
   "cell_type": "code",
   "execution_count": null,
   "metadata": {},
   "outputs": [],
   "source": [
    "score = pd.DataFrame(final['f_player_id'])\n",
    "score['deposit'] = 0\n",
    "score['hands'] = 0\n",
    "score['cash_wagering'] = 0\n",
    "score['buyin'] = 0\n",
    "score['total_score']=0\n",
    "\n",
    "for i in range(score.shape[0]):\n",
    "    if final.loc[final['f_player_id']==score.loc[i,'f_player_id'],'amount'][i]<dep[0]:\n",
    "        score.loc[i,'deposit'] = points[0]\n",
    "    elif (final.loc[final['f_player_id']==score.loc[i,'f_player_id'],'amount'][i]>=dep[0]) and final.loc[final['f_player_id']==score.loc[i,'f_player_id'],'amount'][i]<dep[1]:\n",
    "        score.loc[i,'deposit'] = points[1]\n",
    "    elif final.loc[final['f_player_id']==score.loc[i,'f_player_id'],'amount'][i]>=dep[1]:\n",
    "        score.loc[i,'deposit'] = points[2]\n",
    "        \n",
    "    if final.loc[final['f_player_id']==score.loc[i,'f_player_id'],'total'][i]<hands[0]:\n",
    "        score.loc[i,'hands'] = points[0]\n",
    "    elif (final.loc[final['f_player_id']==score.loc[i,'f_player_id'],'total'][i]>=hands[0]) and final.loc[final['f_player_id']==score.loc[i,'f_player_id'],'total'][i]<hands[1]:\n",
    "        score.loc[i,'hands'] = points[1]\n",
    "    elif final.loc[final['f_player_id']==score.loc[i,'f_player_id'],'total'][i]>=hands[1]:\n",
    "        score.loc[i,'hands'] = points[2]\n",
    "        \n",
    "    if final.loc[final['f_player_id']==score.loc[i,'f_player_id'],'wager'][i]<cash_wage[0]:\n",
    "        score.loc[i,'cash_wagering'] = points[0]\n",
    "    elif (final.loc[final['f_player_id']==score.loc[i,'f_player_id'],'wager'][i]>=cash_wage[0]) and final.loc[final['f_player_id']==score.loc[i,'f_player_id'],'wager'][i]<cash_wage[1]:\n",
    "        score.loc[i,'cash_wagering'] = points[1]\n",
    "    elif final.loc[final['f_player_id']==score.loc[i,'f_player_id'],'wager'][i]>=cash_wage[1]:\n",
    "        score.loc[i,'cash_wagering'] = points[2]\n",
    "        \n",
    "    if final.loc[final['f_player_id']==score.loc[i,'f_player_id'],'buyin'][i]<buyin[0]:\n",
    "        score.loc[i,'buyin'] = points[0]\n",
    "    elif (final.loc[final['f_player_id']==score.loc[i,'f_player_id'],'buyin'][i]>=buyin[0]) and final.loc[final['f_player_id']==score.loc[i,'f_player_id'],'buyin'][i]<buyin[1]:\n",
    "        score.loc[i,'buyin'] = points[1]\n",
    "    elif final.loc[final['f_player_id']==score.loc[i,'f_player_id'],'buyin'][i]>=buyin[1]:\n",
    "        score.loc[i,'buyin'] = points[2]\n",
    "            \n",
    "    score['total_score'][i] = np.multiply(list(score.loc[i,['deposit','hands','cash_wagering','buyin']]),weights).sum()\n",
    "    \n",
    "    if score.loc[i,'total_score']<score_limits[0]:\n",
    "        score.loc[i,'bucket']=1\n",
    "    elif (score.loc[i,'total_score']>=score_limits[0]) and (score.loc[i,'total_score']<score_limits[1]):\n",
    "        score.loc[i,'bucket']=2\n",
    "    elif score.loc[i,'total_score']>=score_limits[1]:\n",
    "        score.loc[i,'bucket']=3"
   ]
  },
  {
   "cell_type": "code",
   "execution_count": null,
   "metadata": {},
   "outputs": [],
   "source": [
    "# Original Bucketing based on whole user life\n",
    "# Our system will try to predict as close to these values as possible\n",
    "\n",
    "bucket2 = pd.DataFrame(final['f_player_id'])\n",
    "h = pd.DataFrame(tourney_games[['f_player_id','buyin']].groupby('f_player_id')['buyin'].sum())\n",
    "g = pd.DataFrame(cash_wages.groupby('f_player_id')['wager'].sum())\n",
    "bucket2 = pd.merge(bucket2,g, on='f_player_id',how = 'left')\n",
    "bucket2 = pd.merge(bucket2,h,on = 'f_player_id',how = 'left')\n",
    "bucket2['total'] = bucket2['wager']+bucket2['buyin']\n",
    "bucket2.fillna(0,inplace=True)\n",
    "\n",
    "bucket2['bucket']=0\n",
    "for i in range(bucket2.shape[0]):\n",
    "    if bucket2.loc[i,'total']<=300:\n",
    "        bucket2.loc[i,'bucket'] = 1\n",
    "    elif (bucket2.loc[i,'total']>40) and (bucket2.loc[i,'total']<=4300):\n",
    "        bucket2.loc[i,'bucket'] = 2\n",
    "    else:\n",
    "        bucket2.loc[i,'bucket']=3"
   ]
  },
  {
   "cell_type": "code",
   "execution_count": null,
   "metadata": {},
   "outputs": [],
   "source": [
    "score['bucket'].value_counts()"
   ]
  },
  {
   "cell_type": "code",
   "execution_count": null,
   "metadata": {},
   "outputs": [],
   "source": [
    "bucket2['bucket'].value_counts()"
   ]
  },
  {
   "cell_type": "code",
   "execution_count": null,
   "metadata": {},
   "outputs": [],
   "source": [
    "print(len(set(np.array(score.loc[score['bucket']==1,'f_player_id'])).intersection(set(np.array(bucket2.loc[bucket2['bucket']==1,'f_player_id']))))*100/score['bucket'].value_counts()[1])\n",
    "print(len(set(np.array(score.loc[score['bucket']==2,'f_player_id'])).intersection(set(np.array(bucket2.loc[bucket2['bucket']==2,'f_player_id']))))*100/score['bucket'].value_counts()[2])\n",
    "print(len(set(np.array(score.loc[score['bucket']==3,'f_player_id'])).intersection(set(np.array(bucket2.loc[bucket2['bucket']==3,'f_player_id']))))*100/score['bucket'].value_counts()[3])"
   ]
  },
  {
   "cell_type": "code",
   "execution_count": null,
   "metadata": {},
   "outputs": [],
   "source": [
    "(len(set(np.array(score.loc[score['bucket']==1,'f_player_id'])).intersection(set(np.array(bucket2.loc[bucket2['bucket']==1,'f_player_id']))))+len(set(np.array(score.loc[score['bucket']==2,'f_player_id'])).intersection(set(np.array(bucket2.loc[bucket2['bucket']==2,'f_player_id']))))+len(set(np.array(score.loc[score['bucket']==3,'f_player_id'])).intersection(set(np.array(bucket2.loc[bucket2['bucket']==3,'f_player_id'])))))/(score.shape[0])"
   ]
  },
  {
   "cell_type": "code",
   "execution_count": null,
   "metadata": {},
   "outputs": [],
   "source": [
    "p =pd.merge(final,score[['f_player_id','bucket']],on = 'f_player_id',how = 'left')"
   ]
  },
  {
   "cell_type": "code",
   "execution_count": null,
   "metadata": {},
   "outputs": [],
   "source": [
    "# Bucket 1 graphs\n",
    "i = 1\n",
    "q = pd.DataFrame(score.loc[score['bucket']==i,'f_player_id'])\n",
    "w = pd.merge(q,deposit[['amount','player_id','days_from_register']],left_on = 'f_player_id',right_on = 'player_id',how = 'left')\n",
    "w.drop(columns = ['player_id'],inplace=True)\n",
    "w['days_from_register'].fillna(-1,inplace=True)\n",
    "w['amount'].fillna(0,inplace=True)\n",
    "\n",
    "import plotly.express as px\n",
    "import plotly.graph_objects as go\n",
    "c = pd.DataFrame(w.groupby('days_from_register')['amount'].mean()[0:10])\n",
    "fig = px.bar(x = c.index,y = c['amount'])\n",
    "fig.update_layout(xaxis_title = 'Days from Register',yaxis_title= 'Amount Deposited')\n",
    "fig.show()\n",
    "\n",
    "w = pd.merge(q,cash_wages[['f_player_id','wager','days_from_register']],on = 'f_player_id',how = 'inner')\n",
    "c = pd.DataFrame(w.groupby('days_from_register')['wager'].mean()[0:10])\n",
    "fig = px.bar(x = c.index,y = c['wager'])\n",
    "fig.update_layout(xaxis_title = 'Days from Register',yaxis_title= 'Cash Wagering')\n",
    "fig.show()\n",
    "\n",
    "w = pd.merge(q,tourney_games[['f_player_id','buyin','days_from_register']],on = 'f_player_id',how = 'inner')\n",
    "c = pd.DataFrame(w.groupby('days_from_register')['buyin'].mean()[0:10])\n",
    "fig = px.bar(x = c.index,y = c['buyin'])\n",
    "fig.update_layout(xaxis_title = 'Days from Register',yaxis_title= 'Buyin')\n",
    "fig.show()"
   ]
  },
  {
   "cell_type": "code",
   "execution_count": null,
   "metadata": {},
   "outputs": [],
   "source": [
    "#Bucket 2 graphs\n",
    "i = 2\n",
    "q = pd.DataFrame(score.loc[score['bucket']==i,'f_player_id'])\n",
    "w = pd.merge(q,deposit[['amount','player_id','days_from_register']],left_on = 'f_player_id',right_on = 'player_id',how = 'left')\n",
    "w.drop(columns = ['player_id'],inplace=True)\n",
    "w['days_from_register'].fillna(-1,inplace=True)\n",
    "w['amount'].fillna(0,inplace=True)\n",
    "\n",
    "import plotly.express as px\n",
    "import plotly.graph_objects as go\n",
    "c = pd.DataFrame(w.groupby('days_from_register')['amount'].mean()[0:10])\n",
    "fig = px.bar(x = c.index,y = c['amount'])\n",
    "fig.update_layout(xaxis_title = 'Days from Register',yaxis_title= 'Amount Deposited')\n",
    "fig.show()\n",
    "\n",
    "w = pd.merge(q,cash_wages[['f_player_id','wager','days_from_register']],on = 'f_player_id',how = 'inner')\n",
    "c = pd.DataFrame(w.groupby('days_from_register')['wager'].mean()[0:10])\n",
    "fig = px.bar(x = c.index,y = c['wager'])\n",
    "fig.update_layout(xaxis_title = 'Days from Register',yaxis_title= 'Cash Wagering')\n",
    "fig.show()\n",
    "\n",
    "w = pd.merge(q,tourney_games[['f_player_id','buyin','days_from_register']],on = 'f_player_id',how = 'inner')\n",
    "c = pd.DataFrame(w.groupby('days_from_register')['buyin'].mean()[0:10])\n",
    "fig = px.bar(x = c.index,y = c['buyin'])\n",
    "fig.update_layout(xaxis_title = 'Days from Register',yaxis_title= 'Buyin')\n",
    "fig.show()"
   ]
  },
  {
   "cell_type": "code",
   "execution_count": null,
   "metadata": {},
   "outputs": [],
   "source": [
    "# Bucket3 graphs\n",
    "i = 3\n",
    "q = pd.DataFrame(score.loc[score['bucket']==i,'f_player_id'])\n",
    "w = pd.merge(q,deposit[['amount','player_id','days_from_register']],left_on = 'f_player_id',right_on = 'player_id',how = 'left')\n",
    "w.drop(columns = ['player_id'],inplace=True)\n",
    "w['days_from_register'].fillna(-1,inplace=True)\n",
    "w['amount'].fillna(0,inplace=True)\n",
    "\n",
    "import plotly.express as px\n",
    "import plotly.graph_objects as go\n",
    "c = pd.DataFrame(w.groupby('days_from_register')['amount'].mean()[0:10])\n",
    "fig = px.bar(x = c.index,y = c['amount'])\n",
    "fig.update_layout(xaxis_title = 'Days from Register',yaxis_title= 'Amount Deposited')\n",
    "fig.show()\n",
    "\n",
    "w = pd.merge(q,cash_wages[['f_player_id','wager','days_from_register']],on = 'f_player_id',how = 'inner')\n",
    "c = pd.DataFrame(w.groupby('days_from_register')['wager'].mean()[0:10])\n",
    "fig = px.bar(x = c.index,y = c['wager'])\n",
    "fig.update_layout(xaxis_title = 'Days from Register',yaxis_title= 'Cash Wagering')\n",
    "fig.show()\n",
    "\n",
    "w = pd.merge(q,tourney_games[['f_player_id','buyin','days_from_register']],on = 'f_player_id',how = 'inner')\n",
    "c = pd.DataFrame(w.groupby('days_from_register')['buyin'].mean()[0:10])\n",
    "fig = px.bar(x = c.index,y = c['buyin'])\n",
    "fig.update_layout(xaxis_title = 'Days from Register',yaxis_title= 'Buyin')\n",
    "fig.show()"
   ]
  },
  {
   "cell_type": "code",
   "execution_count": null,
   "metadata": {},
   "outputs": [],
   "source": [
    "deposit.loc[deposit['player_id']==142586396]"
   ]
  },
  {
   "cell_type": "markdown",
   "metadata": {},
   "source": [
    "### New updated bucket system"
   ]
  },
  {
   "cell_type": "code",
   "execution_count": null,
   "metadata": {},
   "outputs": [],
   "source": [
    "cash_games"
   ]
  },
  {
   "cell_type": "code",
   "execution_count": 7,
   "metadata": {},
   "outputs": [
    {
     "ename": "NameError",
     "evalue": "name 'cash_wages' is not defined",
     "output_type": "error",
     "traceback": [
      "\u001b[1;31m---------------------------------------------------------------------------\u001b[0m",
      "\u001b[1;31mNameError\u001b[0m                                 Traceback (most recent call last)",
      "\u001b[1;32m<ipython-input-7-e20e387b3c86>\u001b[0m in \u001b[0;36m<module>\u001b[1;34m\u001b[0m\n\u001b[1;32m----> 1\u001b[1;33m \u001b[0mcash_wages\u001b[0m\u001b[1;33m\u001b[0m\u001b[1;33m\u001b[0m\u001b[0m\n\u001b[0m",
      "\u001b[1;31mNameError\u001b[0m: name 'cash_wages' is not defined"
     ]
    }
   ],
   "source": [
    "cash_wages"
   ]
  },
  {
   "cell_type": "code",
   "execution_count": null,
   "metadata": {},
   "outputs": [],
   "source": [
    "a = pd.DataFrame(cash_games.loc[cash_games['days_from_register']<3].groupby('f_player_id')['rake'].sum())\n",
    "b = pd.DataFrame(tourney_games.loc[tourney_games['days_from_register']<3].groupby('f_player_id')['buyin'].sum())\n",
    "c = pd.DataFrame(cash_wages.loc[cash_wages['days_from_register']<3].groupby('f_player_id')['wager'].sum())\n",
    "\n",
    "final = pd.merge(a,b,on = 'f_player_id',how = 'outer')\n",
    "c.reset_index(inplace=True)\n",
    "final.reset_index(inplace=True)\n",
    "final = pd.merge(final,c,left_on = 'f_player_id',right_on= 'f_player_id',how = 'outer')\n",
    "final.reset_index(inplace=True)\n",
    "final.fillna(0,inplace=True)"
   ]
  },
  {
   "cell_type": "code",
   "execution_count": null,
   "metadata": {},
   "outputs": [],
   "source": [
    "final['perc'] = final['rake']/final['wager']"
   ]
  },
  {
   "cell_type": "code",
   "execution_count": null,
   "metadata": {},
   "outputs": [],
   "source": [
    "final['perc'].describe()"
   ]
  },
  {
   "cell_type": "code",
   "execution_count": null,
   "metadata": {},
   "outputs": [],
   "source": [
    "final['bucket'] = 0\n",
    "\n",
    "for i in final.index:\n",
    "    if final.loc[i,'rake']>=75:\n",
    "        final.loc[i,'bucket']='3c'\n",
    "    elif (final.loc[i,'rake']>=15):\n",
    "        final.loc[i,'bucket'] = '2c'\n",
    "    elif final.loc[i,'buyin']>=300:\n",
    "        final.loc[i,'bucket'] = '3t'\n",
    "    elif final.loc[i,'buyin']>=50:\n",
    "        final.loc[i,'bucket'] = '2t'\n",
    "    else:\n",
    "        final.loc[i,'bucket'] = '1'"
   ]
  },
  {
   "cell_type": "code",
   "execution_count": null,
   "metadata": {},
   "outputs": [],
   "source": [
    "final['bucket'].value_counts()"
   ]
  },
  {
   "cell_type": "code",
   "execution_count": null,
   "metadata": {},
   "outputs": [],
   "source": [
    "k.loc[k['currentTier']=='Gold','bucket'].value_counts()"
   ]
  },
  {
   "cell_type": "code",
   "execution_count": null,
   "metadata": {},
   "outputs": [],
   "source": [
    "k = pd.merge(final,user3[['player_id','currentTier']],left_on = 'f_player_id',right_on = 'player_id',how = 'left')\n",
    "k.loc[(k['currentTier']=='Gold') & (k['bucket']=='2c')]"
   ]
  },
  {
   "cell_type": "code",
   "execution_count": null,
   "metadata": {},
   "outputs": [],
   "source": [
    "k.loc[(k['currentTier']=='Gold') & (k['bucket']=='1')]"
   ]
  },
  {
   "cell_type": "code",
   "execution_count": null,
   "metadata": {},
   "outputs": [],
   "source": [
    "k.loc[(k['currentTier']=='Silver'),'bucket'].value_counts()"
   ]
  },
  {
   "cell_type": "code",
   "execution_count": null,
   "metadata": {},
   "outputs": [],
   "source": [
    "import plotly.graph_objects as go\n",
    "\n",
    "labels = ['1','2_Cash','3_Cash','2_Tourney','3_Tourney']\n",
    "values = np.array(final['bucket'].value_counts())\n",
    "\n",
    "fig = go.Figure(data=[go.Pie(labels=labels, values=values)])\n",
    "fig.show()\n"
   ]
  },
  {
   "cell_type": "code",
   "execution_count": null,
   "metadata": {},
   "outputs": [],
   "source": [
    "final"
   ]
  },
  {
   "cell_type": "code",
   "execution_count": null,
   "metadata": {},
   "outputs": [],
   "source": [
    "import plotly.express as px\n",
    "import plotly.graph_objects as go\n",
    "i = '1'\n",
    "\n",
    "a = pd.DataFrame(pd.merge(final.loc[final['bucket']==i,'f_player_id'],cash_games[['f_player_id','days_from_register','hands']],on = 'f_player_id',how = 'left').groupby('days_from_register')['hands'].mean()[0:10])\n",
    "fig = px.bar(x = a.index,y = a['hands'])\n",
    "fig.update_layout(xaxis_title = 'Days from Register',yaxis_title= 'Cash Hands',title = 'Cash hands for Bucket '+i+ ' users')\n",
    "fig.show()\n",
    "\n",
    "b = pd.DataFrame(pd.merge(final.loc[final['bucket']==i,'f_player_id'],cash_games[['f_player_id','days_from_register','f_big_blind']],on = 'f_player_id',how = 'left').groupby('days_from_register')['f_big_blind'].mean()[0:10])\n",
    "fig = px.bar(x = b.index,y = b['f_big_blind'])\n",
    "fig.update_layout(xaxis_title = 'Days from Register',yaxis_title= 'Average Big Blind',title = 'Average Big Blinds for Bucket '+i+ ' users')\n",
    "fig.show()\n",
    "\n",
    "c = pd.DataFrame(pd.merge(final.loc[final['bucket']==i,'f_player_id'],tourney_games[['f_player_id','days_from_register','buyin']],on = 'f_player_id',how = 'left').groupby('days_from_register')['buyin'].mean()[1:11])\n",
    "fig = px.bar(x = c.index,y = c['buyin'])\n",
    "fig.update_layout(xaxis_title = 'Days from Register',yaxis_title= 'Tourney Buyin',title = 'Tournament Buyin for Bucket '+i+ ' users')\n",
    "fig.show()\n",
    "\n",
    "d = pd.DataFrame(pd.merge(final.loc[final['bucket']==i,'f_player_id'],tourney_hands[['f_player_id','days_from_register','hands']],on = 'f_player_id',how = 'left').groupby('days_from_register')['hands'].mean()[:10])\n",
    "fig = px.bar(x = d.index,y = d['hands'])\n",
    "fig.update_layout(xaxis_title = 'Days from Register',yaxis_title= 'Tourney Hands',title = 'Tournament Hands for Bucket '+i+ ' users')\n",
    "fig.show()\n",
    "\n",
    "e = pd.DataFrame(pd.merge(final.loc[final['bucket']==i,'f_player_id'],cash_games[['f_player_id','days_from_register','rake']],on = 'f_player_id',how = 'left').groupby('days_from_register')['rake'].mean()[:10])\n",
    "fig = px.bar(x = e.index,y = e['rake'])\n",
    "fig.update_layout(xaxis_title = 'Days from Register',yaxis_title= 'Rake')\n",
    "fig.show()"
   ]
  },
  {
   "cell_type": "code",
   "execution_count": null,
   "metadata": {},
   "outputs": [],
   "source": [
    "i = '2t'\n",
    "\n",
    "a = pd.DataFrame(pd.merge(final.loc[final['bucket']==i,'f_player_id'],cash_games[['f_player_id','days_from_register','hands']],on = 'f_player_id',how = 'left').groupby('days_from_register')['hands'].mean()[0:10])\n",
    "fig = px.bar(x = a.index,y = a['hands'])\n",
    "fig.update_layout(xaxis_title = 'Days from Register',yaxis_title= 'Cash Hands',title = 'Cash hands for Bucket '+i+ ' users')\n",
    "fig.show()\n",
    "\n",
    "b = pd.DataFrame(pd.merge(final.loc[final['bucket']==i,'f_player_id'],cash_games[['f_player_id','days_from_register','f_big_blind']],on = 'f_player_id',how = 'left').groupby('days_from_register')['f_big_blind'].mean()[0:10])\n",
    "fig = px.bar(x = b.index,y = b['f_big_blind'])\n",
    "fig.update_layout(xaxis_title = 'Days from Register',yaxis_title= 'Average Big Blind',title = 'Average Big Blinds for Bucket '+i+ ' users')\n",
    "fig.show()\n",
    "\n",
    "c = pd.DataFrame(pd.merge(final.loc[final['bucket']==i,'f_player_id'],tourney_games[['f_player_id','days_from_register','buyin']],on = 'f_player_id',how = 'left').groupby('days_from_register')['buyin'].mean()[1:11])\n",
    "fig = px.bar(x = c.index,y = c['buyin'])\n",
    "fig.update_layout(xaxis_title = 'Days from Register',yaxis_title= 'Tourney Buyin',title = 'Tournament Buyin for Bucket '+i+ ' users')\n",
    "fig.show()\n",
    "\n",
    "d = pd.DataFrame(pd.merge(final.loc[final['bucket']==i,'f_player_id'],tourney_hands[['f_player_id','days_from_register','hands']],on = 'f_player_id',how = 'left').groupby('days_from_register')['hands'].mean()[:10])\n",
    "fig = px.bar(x = d.index,y = d['hands'])\n",
    "fig.update_layout(xaxis_title = 'Days from Register',yaxis_title= 'Tourney Hands')\n",
    "fig.show()\n",
    "\n",
    "e = pd.DataFrame(pd.merge(final.loc[final['bucket']==i,'f_player_id'],cash_games[['f_player_id','days_from_register','rake']],on = 'f_player_id',how = 'left').groupby('days_from_register')['rake'].mean()[:10])\n",
    "fig = px.bar(x = e.index,y = e['rake'])\n",
    "fig.update_layout(xaxis_title = 'Days from Register',yaxis_title= 'Rake',title = 'Cash games rake for Bucket '+i+ ' users')\n",
    "fig.show()"
   ]
  },
  {
   "cell_type": "code",
   "execution_count": null,
   "metadata": {},
   "outputs": [],
   "source": [
    "i = '2c'\n",
    "\n",
    "a = pd.DataFrame(pd.merge(final.loc[final['bucket']==i,'f_player_id'],cash_games[['f_player_id','days_from_register','hands']],on = 'f_player_id',how = 'left').groupby('days_from_register')['hands'].mean()[0:10])\n",
    "fig = px.bar(x = a.index,y = a['hands'])\n",
    "fig.update_layout(xaxis_title = 'Days from Register',yaxis_title= 'Cash Hands',title = 'Cash hands for Bucket '+i+ ' users')\n",
    "fig.show()\n",
    "\n",
    "b = pd.DataFrame(pd.merge(final.loc[final['bucket']==i,'f_player_id'],cash_games[['f_player_id','days_from_register','f_big_blind']],on = 'f_player_id',how = 'left').groupby('days_from_register')['f_big_blind'].mean()[0:10])\n",
    "fig = px.bar(x = b.index,y = b['f_big_blind'])\n",
    "fig.update_layout(xaxis_title = 'Days from Register',yaxis_title= 'Average Big Blind',title = 'Average Big Blinds for Bucket '+i+ ' users')\n",
    "fig.show()\n",
    "\n",
    "c = pd.DataFrame(pd.merge(final.loc[final['bucket']==i,'f_player_id'],tourney_games[['f_player_id','days_from_register','buyin']],on = 'f_player_id',how = 'left').groupby('days_from_register')['buyin'].mean()[1:11])\n",
    "fig = px.bar(x = c.index,y = c['buyin'])\n",
    "fig.update_layout(xaxis_title = 'Days from Register',yaxis_title= 'Tourney Buyin',title = 'Tournament Buyin for Bucket '+i+ ' users')\n",
    "fig.show()\n",
    "\n",
    "d = pd.DataFrame(pd.merge(final.loc[final['bucket']==i,'f_player_id'],tourney_hands[['f_player_id','days_from_register','hands']],on = 'f_player_id',how = 'left').groupby('days_from_register')['hands'].mean()[:10])\n",
    "fig = px.bar(x = d.index,y = d['hands'])\n",
    "fig.update_layout(xaxis_title = 'Days from Register',yaxis_title= 'Tourney Hands')\n",
    "fig.show()\n",
    "\n",
    "e = pd.DataFrame(pd.merge(final.loc[final['bucket']==i,'f_player_id'],cash_games[['f_player_id','days_from_register','rake']],on = 'f_player_id',how = 'left').groupby('days_from_register')['rake'].mean()[:10])\n",
    "fig = px.bar(x = e.index,y = e['rake'])\n",
    "fig.update_layout(xaxis_title = 'Days from Register',yaxis_title= 'Rake',title = 'Cash games rake for Bucket '+i+ ' users')\n",
    "fig.show()"
   ]
  },
  {
   "cell_type": "code",
   "execution_count": null,
   "metadata": {},
   "outputs": [],
   "source": [
    "i = '3t'\n",
    "\n",
    "a = pd.DataFrame(pd.merge(final.loc[final['bucket']==i,'f_player_id'],cash_games[['f_player_id','days_from_register','hands']],on = 'f_player_id',how = 'left').groupby('days_from_register')['hands'].mean()[0:10])\n",
    "fig = px.bar(x = a.index,y = a['hands'])\n",
    "fig.update_layout(xaxis_title = 'Days from Register',yaxis_title= 'Cash Hands',title = 'Cash hands for Bucket '+i+ ' users')\n",
    "fig.show()\n",
    "\n",
    "b = pd.DataFrame(pd.merge(final.loc[final['bucket']==i,'f_player_id'],cash_games[['f_player_id','days_from_register','f_big_blind']],on = 'f_player_id',how = 'left').groupby('days_from_register')['f_big_blind'].mean()[0:10])\n",
    "fig = px.bar(x = b.index,y = b['f_big_blind'])\n",
    "fig.update_layout(xaxis_title = 'Days from Register',yaxis_title= 'Average Big Blind',title = 'Average Big Blinds for Bucket '+i+ ' users')\n",
    "fig.show()\n",
    "\n",
    "c = pd.DataFrame(pd.merge(final.loc[final['bucket']==i,'f_player_id'],tourney_games[['f_player_id','days_from_register','buyin']],on = 'f_player_id',how = 'left').groupby('days_from_register')['buyin'].mean()[1:11])\n",
    "fig = px.bar(x = c.index,y = c['buyin'])\n",
    "fig.update_layout(xaxis_title = 'Days from Register',yaxis_title= 'Tourney Buyin',title = 'Tournament Buyin for Bucket '+i+ ' users')\n",
    "fig.show()\n",
    "\n",
    "d = pd.DataFrame(pd.merge(final.loc[final['bucket']==i,'f_player_id'],tourney_hands[['f_player_id','days_from_register','hands']],on = 'f_player_id',how = 'left').groupby('days_from_register')['hands'].mean()[:10])\n",
    "fig = px.bar(x = d.index,y = d['hands'])\n",
    "fig.update_layout(xaxis_title = 'Days from Register',yaxis_title= 'Tourney Hands')\n",
    "fig.show()\n",
    "\n",
    "e = pd.DataFrame(pd.merge(final.loc[final['bucket']==i,'f_player_id'],cash_games[['f_player_id','days_from_register','rake']],on = 'f_player_id',how = 'left').groupby('days_from_register')['rake'].mean()[:10])\n",
    "fig = px.bar(x = e.index,y = e['rake'])\n",
    "fig.update_layout(xaxis_title = 'Days from Register',yaxis_title= 'Rake',title = 'Cash games rake for Bucket '+i+ ' users')\n",
    "fig.show()"
   ]
  },
  {
   "cell_type": "code",
   "execution_count": null,
   "metadata": {},
   "outputs": [],
   "source": [
    "i = '3c'\n",
    "\n",
    "a = pd.DataFrame(pd.merge(final.loc[final['bucket']==i,'f_player_id'],cash_games[['f_player_id','days_from_register','hands']],on = 'f_player_id',how = 'left').groupby('days_from_register')['hands'].mean()[0:10])\n",
    "fig = px.bar(x = a.index,y = a['hands'])\n",
    "fig.update_layout(xaxis_title = 'Days from Register',yaxis_title= 'Cash Hands',title = 'Cash hands for Bucket '+i+ ' users')\n",
    "fig.show()\n",
    "\n",
    "b = pd.DataFrame(pd.merge(final.loc[final['bucket']==i,'f_player_id'],cash_games[['f_player_id','days_from_register','f_big_blind']],on = 'f_player_id',how = 'left').groupby('days_from_register')['f_big_blind'].mean()[0:10])\n",
    "fig = px.bar(x = b.index,y = b['f_big_blind'])\n",
    "fig.update_layout(xaxis_title = 'Days from Register',yaxis_title= 'Average Big Blind',title = 'Average Big Blinds for Bucket '+i+ ' users')\n",
    "fig.show()\n",
    "\n",
    "c = pd.DataFrame(pd.merge(final.loc[final['bucket']==i,'f_player_id'],tourney_games[['f_player_id','days_from_register','buyin']],on = 'f_player_id',how = 'left').groupby('days_from_register')['buyin'].mean()[1:11])\n",
    "fig = px.bar(x = c.index,y = c['buyin'])\n",
    "fig.update_layout(xaxis_title = 'Days from Register',yaxis_title= 'Tourney Buyin',title = 'Tournament Buyin for Bucket '+i+ ' users')\n",
    "fig.show()\n",
    "\n",
    "d = pd.DataFrame(pd.merge(final.loc[final['bucket']==i,'f_player_id'],tourney_hands[['f_player_id','days_from_register','hands']],on = 'f_player_id',how = 'left').groupby('days_from_register')['hands'].mean()[:10])\n",
    "fig = px.bar(x = d.index,y = d['hands'])\n",
    "fig.update_layout(xaxis_title = 'Days from Register',yaxis_title= 'Tourney Hands')\n",
    "fig.show()\n",
    "\n",
    "e = pd.DataFrame(pd.merge(final.loc[final['bucket']==i,'f_player_id'],cash_games[['f_player_id','days_from_register','rake']],on = 'f_player_id',how = 'left').groupby('days_from_register')['rake'].mean()[:10])\n",
    "fig = px.bar(x = e.index,y = e['rake'])\n",
    "fig.update_layout(xaxis_title = 'Days from Register',yaxis_title= 'Rake',title = 'Cash games rake for Bucket '+i+ ' users')\n",
    "fig.show()"
   ]
  },
  {
   "cell_type": "code",
   "execution_count": null,
   "metadata": {},
   "outputs": [],
   "source": []
  },
  {
   "cell_type": "code",
   "execution_count": null,
   "metadata": {},
   "outputs": [],
   "source": [
    "user3 = pd.merge(user_points,users2[['user','player_id']],on = 'user',how = 'right')"
   ]
  },
  {
   "cell_type": "code",
   "execution_count": null,
   "metadata": {},
   "outputs": [],
   "source": [
    "z = pd.DataFrame(user3.loc[(user3['currentTier']=='Gold') | (user3['currentTier']=='Platinum') | (user3['currentTier']=='Uranium'),'player_id'])"
   ]
  },
  {
   "cell_type": "code",
   "execution_count": null,
   "metadata": {},
   "outputs": [],
   "source": [
    "p = wins.groupby('f_player_id')[['wins','count']].sum()\n",
    "p['perc'] = p['wins']/p['count']\n",
    "p.reset_index(inplace=True)\n",
    "p"
   ]
  },
  {
   "cell_type": "code",
   "execution_count": null,
   "metadata": {},
   "outputs": [],
   "source": [
    "i = '3t'\n",
    "pd.merge(final[['f_player_id','bucket']].loc[final['bucket']==i],p[['f_player_id','perc']],on = 'f_player_id',how = 'inner')['perc'].mean()"
   ]
  },
  {
   "cell_type": "code",
   "execution_count": null,
   "metadata": {},
   "outputs": [],
   "source": [
    "# %wins:  1- 26.56%   2c - 29.2%  2t - 31.55% 3c - 29.26%  3t - 27.07%\n",
    "\n",
    "# %flush: 1-55.87%  2c-59.79%  2t- 63.42%  3c- 58.34%  3t- 55.57%"
   ]
  },
  {
   "cell_type": "code",
   "execution_count": null,
   "metadata": {},
   "outputs": [],
   "source": [
    "q = flush.groupby('f_player_id')[['wins','count']].sum()\n",
    "q['perc'] = q['wins']/q['count']\n",
    "q.reset_index(inplace=True)\n",
    "q"
   ]
  },
  {
   "cell_type": "code",
   "execution_count": null,
   "metadata": {},
   "outputs": [],
   "source": [
    "i = '3t'\n",
    "pd.merge(final[['f_player_id','bucket']].loc[final['bucket']==i],q[['f_player_id','perc']],on = 'f_player_id',how = 'inner')['perc'].mean()"
   ]
  },
  {
   "cell_type": "code",
   "execution_count": null,
   "metadata": {},
   "outputs": [],
   "source": []
  }
 ],
 "metadata": {
  "kernelspec": {
   "display_name": "Python 3",
   "language": "python",
   "name": "python3"
  },
  "language_info": {
   "codemirror_mode": {
    "name": "ipython",
    "version": 3
   },
   "file_extension": ".py",
   "mimetype": "text/x-python",
   "name": "python",
   "nbconvert_exporter": "python",
   "pygments_lexer": "ipython3",
   "version": "3.8.5"
  }
 },
 "nbformat": 4,
 "nbformat_minor": 4
}
